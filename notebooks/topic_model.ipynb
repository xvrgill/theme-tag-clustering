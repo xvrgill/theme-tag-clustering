{
 "cells": [
  {
   "cell_type": "markdown",
   "source": [
    "# LDA Topic Model\n",
    "\n",
    "Xavier C. Gill\n",
    "September 16, 2022"
   ],
   "metadata": {
    "collapsed": false,
    "pycharm": {
     "name": "#%% md\n"
    }
   }
  },
  {
   "cell_type": "markdown",
   "source": [
    "## Library Imports"
   ],
   "metadata": {
    "collapsed": false,
    "pycharm": {
     "name": "#%% md\n"
    }
   }
  },
  {
   "cell_type": "code",
   "execution_count": 2,
   "metadata": {
    "collapsed": true,
    "pycharm": {
     "name": "#%%\n"
    }
   },
   "outputs": [
    {
     "name": "stderr",
     "output_type": "stream",
     "text": [
      "[nltk_data] Downloading package stopwords to\n",
      "[nltk_data]     /Users/xaviergill/nltk_data...\n",
      "[nltk_data]   Package stopwords is already up-to-date!\n",
      "/Users/xaviergill/opt/anaconda3/envs/nlp/lib/python3.9/site-packages/past/builtins/misc.py:45: DeprecationWarning: the imp module is deprecated in favour of importlib; see the module's documentation for alternative uses\n",
      "  from imp import reload\n"
     ]
    }
   ],
   "source": [
    "import gensim\n",
    "import nltk\n",
    "nltk.download('stopwords')\n",
    "import numpy as np\n",
    "import json\n",
    "import glob\n",
    "import gensim.corpora as corpora\n",
    "from gensim.utils import simple_preprocess\n",
    "from gensim.models import CoherenceModel\n",
    "import spacy\n",
    "from nltk.corpus import stopwords\n",
    "import pyLDAvis\n",
    "import pyLDAvis.gensim_models as gensimviz\n",
    "import pandas as pd\n",
    "import requests\n",
    "from bs4 import BeautifulSoup\n",
    "from tqdm import tqdm\n",
    "tqdm.pandas()\n",
    "from concurrent.futures import ThreadPoolExecutor\n",
    "import openpyxl\n",
    "import sklearn"
   ]
  },
  {
   "cell_type": "markdown",
   "source": [
    "## Retrieving Texts"
   ],
   "metadata": {
    "collapsed": false,
    "pycharm": {
     "name": "#%% md\n"
    }
   }
  },
  {
   "cell_type": "markdown",
   "source": [
    "Reading the scraped csv file as our input. This file contains all relevant fields exploded by author."
   ],
   "metadata": {
    "collapsed": false,
    "pycharm": {
     "name": "#%% md\n"
    }
   }
  },
  {
   "cell_type": "code",
   "execution_count": 3,
   "outputs": [
    {
     "data": {
      "text/plain": "                                              aem_path  \\\n0    /content/invesco/us/en/insights/election-2020-...   \n1    /content/invesco/us/en/insights/election-2020-...   \n2    /content/invesco/us/en/insights/tactical-asset...   \n3    /content/invesco/us/en/insights/2021-outlook-i...   \n4    /content/invesco/us/en/insights/shifting-dc-ti...   \n..                                                 ...   \n808  /content/invesco/us/en/insights/liability-awar...   \n809     /content/invesco/us/en/insights/new-word-order   \n810  /content/invesco/us/en/insights/what-matters-m...   \n811  /content/invesco/us/en/insights/remembering-90...   \n812  /content/invesco/us/en/insights/continuing-edu...   \n\n                                            page_title  \\\n0      Election 2020: The Senate is definitely in play   \n1      Election 2020: The Senate is definitely in play   \n2     Tactical asset allocation outlook: November 2020   \n3    2021 Investment Outlook: Implications for worl...   \n4    Shifting DC Times: Helping women close the ret...   \n..                                                 ...   \n808  Liability Aware Investing: A more holistic app...   \n809                  \"New word order\" program overview   \n810  \"Energy management for high performance\" progr...   \n811           Can the Fed manage another soft landing?   \n812          Continuing education: Investments library   \n\n                                              template  \\\n0    /conf/invesco/settings/wcm/templates/article-p...   \n1    /conf/invesco/settings/wcm/templates/article-p...   \n2    /conf/invesco/settings/wcm/templates/article-p...   \n3    /conf/invesco/settings/wcm/templates/article-p...   \n4    /conf/invesco/settings/wcm/templates/article-p...   \n..                                                 ...   \n808  /conf/invesco/settings/wcm/templates/article-p...   \n809  /conf/invesco/settings/wcm/templates/article-p...   \n810  /conf/invesco/settings/wcm/templates/article-p...   \n811  /conf/invesco/settings/wcm/templates/article-p...   \n812  /conf/invesco/settings/wcm/templates/article-p...   \n\n                       last_modified     tags  \\\n0     Tue, 3 Nov 2020 15:06:30 +0000  ['nan']   \n1     Tue, 3 Nov 2020 15:06:30 +0000  ['nan']   \n2    Wed, 25 Nov 2020 15:12:43 +0000  ['nan']   \n3     Tue, 1 Dec 2020 10:05:35 +0000  ['nan']   \n4    Mon, 14 Dec 2020 16:46:55 +0000  ['nan']   \n..                               ...      ...   \n808  Mon, 22 Aug 2022 17:53:42 +0000  ['nan']   \n809  Mon, 22 Aug 2022 18:37:18 +0000  ['nan']   \n810  Mon, 22 Aug 2022 18:40:30 +0000  ['nan']   \n811  Tue, 23 Aug 2022 07:53:44 +0000  ['nan']   \n812  Wed, 23 Mar 2022 15:01:03 +0000  ['nan']   \n\n                                                 topic  \\\n0    ['Legislative and regulatory', 'Washington upd...   \n1    ['Legislative and regulatory', 'Washington upd...   \n2    ['Multi Asset', 'Asset allocation', 'Markets a...   \n3                                   ['Market outlook']   \n4    ['Participant engagement', 'Defined contributi...   \n..                                                 ...   \n808                         ['Portfolio Construction']   \n809                                 ['Client Service']   \n810          ['Client Service', 'Practice Management']   \n811                            ['Markets and Economy']   \n812  ['Investing Basics', 'ETF', 'Investment Outloo...   \n\n                     program                         theme content_type_tags  \\\n0          ['Election 2020']                 ['Elections']           Insight   \n1          ['Election 2020']                 ['Elections']           Insight   \n2              ['Solutions']      ['Investment solutions']           Insight   \n3                    ['nan']  ['Macroeconomics & outlook']           Insight   \n4      ['Shifting DC Times']                       ['nan']           Insight   \n..                       ...                           ...               ...   \n808                  ['nan']                       ['nan']           Insight   \n809                  ['nan']             ['Your practice']           Insight   \n810  ['Roadmap to Recovery']             ['Your practice']           Insight   \n811                  ['nan']                       ['nan']           Insight   \n812                  ['nan']             ['Your practice']           Insight   \n\n                                             user_role  ... person team  \\\n0                                    ['Institutional']  ...    NaN  NaN   \n1                                    ['Institutional']  ...    NaN  NaN   \n2                                    ['Institutional']  ...    NaN  NaN   \n3                                    ['Institutional']  ...    NaN  NaN   \n4          ['Financial Professional', 'Institutional']  ...    NaN  NaN   \n..                                                 ...  ...    ...  ...   \n808                                  ['Institutional']  ...    NaN  NaN   \n809                         ['Financial Professional']  ...    NaN  NaN   \n810                         ['Financial Professional']  ...    NaN  NaN   \n811  ['Financial Professional', 'Individual Investo...  ...    NaN  NaN   \n812                         ['Financial Professional']  ...    NaN  NaN   \n\n       last_modified_by          created_by replication_status  \\\n0         katta.dheeraj      suyog.deshmukh      NOT_ACTIVATED   \n1         katta.dheeraj      suyog.deshmukh      NOT_ACTIVATED   \n2      priya.sasidharan    priya.sasidharan      NOT_ACTIVATED   \n3      priya.sasidharan    priya.sasidharan      NOT_ACTIVATED   \n4        suyog.deshmukh         nick.miller      NOT_ACTIVATED   \n..                  ...                 ...                ...   \n808     saikumar.ambadi     saikumar.ambadi      NOT_ACTIVATED   \n809   bharadwaj.cheruvu          neha.arora      NOT_ACTIVATED   \n810   bharadwaj.cheruvu          neha.arora      NOT_ACTIVATED   \n811  chikoti.prashanthi  chikoti.prashanthi      NOT_ACTIVATED   \n812   bharadwaj.cheruvu          neha.arora      NOT_ACTIVATED   \n\n                                   authors  \\\n0                             andy-blocker   \n1                         jennifer-flitton   \n2                        alessio-de-longis   \n3    invesco-global-market-strategy-office   \n4                                  invesco   \n..                                     ...   \n808                        paisley-nardini   \n809              invesco-global-consulting   \n810              invesco-global-consulting   \n811                         KristinaHooper   \n812                                invesco   \n\n                                       user_role_param status_code  \\\n0                                    ['Institutional']         200   \n1                                    ['Institutional']         200   \n2                                    ['Institutional']         200   \n3                                    ['Institutional']         200   \n4           ['FinancialProfessional', 'Institutional']         200   \n..                                                 ...         ...   \n808                                  ['Institutional']         200   \n809                          ['FinancialProfessional']         200   \n810                          ['FinancialProfessional']         200   \n811  ['FinancialProfessional', 'IndividualInvestor'...         200   \n812                          ['FinancialProfessional']         200   \n\n                                       url_with_params publish_date  \n0    https://www.invesco.com/us/en/insights/electio...   2020-10-30  \n1    https://www.invesco.com/us/en/insights/electio...   2020-10-30  \n2    https://www.invesco.com/us/en/insights/tactica...   2020-11-11  \n3    https://www.invesco.com/us/en/insights/2021-ou...   2020-11-30  \n4    https://www.invesco.com/us/en/insights/shiftin...   2019-06-01  \n..                                                 ...          ...  \n808  https://www.invesco.com/us/en/insights/liabili...   2022-08-19  \n809  https://www.invesco.com/us/en/insights/new-wor...          NaN  \n810  https://www.invesco.com/us/en/insights/what-ma...          NaN  \n811  https://www.invesco.com/us/en/insights/remembe...   2022-08-22  \n812  https://www.invesco.com/us/en/insights/continu...          NaN  \n\n[813 rows x 25 columns]",
      "text/html": "<div>\n<style scoped>\n    .dataframe tbody tr th:only-of-type {\n        vertical-align: middle;\n    }\n\n    .dataframe tbody tr th {\n        vertical-align: top;\n    }\n\n    .dataframe thead th {\n        text-align: right;\n    }\n</style>\n<table border=\"1\" class=\"dataframe\">\n  <thead>\n    <tr style=\"text-align: right;\">\n      <th></th>\n      <th>aem_path</th>\n      <th>page_title</th>\n      <th>template</th>\n      <th>last_modified</th>\n      <th>tags</th>\n      <th>topic</th>\n      <th>program</th>\n      <th>theme</th>\n      <th>content_type_tags</th>\n      <th>user_role</th>\n      <th>...</th>\n      <th>person</th>\n      <th>team</th>\n      <th>last_modified_by</th>\n      <th>created_by</th>\n      <th>replication_status</th>\n      <th>authors</th>\n      <th>user_role_param</th>\n      <th>status_code</th>\n      <th>url_with_params</th>\n      <th>publish_date</th>\n    </tr>\n  </thead>\n  <tbody>\n    <tr>\n      <th>0</th>\n      <td>/content/invesco/us/en/insights/election-2020-...</td>\n      <td>Election 2020: The Senate is definitely in play</td>\n      <td>/conf/invesco/settings/wcm/templates/article-p...</td>\n      <td>Tue, 3 Nov 2020 15:06:30 +0000</td>\n      <td>['nan']</td>\n      <td>['Legislative and regulatory', 'Washington upd...</td>\n      <td>['Election 2020']</td>\n      <td>['Elections']</td>\n      <td>Insight</td>\n      <td>['Institutional']</td>\n      <td>...</td>\n      <td>NaN</td>\n      <td>NaN</td>\n      <td>katta.dheeraj</td>\n      <td>suyog.deshmukh</td>\n      <td>NOT_ACTIVATED</td>\n      <td>andy-blocker</td>\n      <td>['Institutional']</td>\n      <td>200</td>\n      <td>https://www.invesco.com/us/en/insights/electio...</td>\n      <td>2020-10-30</td>\n    </tr>\n    <tr>\n      <th>1</th>\n      <td>/content/invesco/us/en/insights/election-2020-...</td>\n      <td>Election 2020: The Senate is definitely in play</td>\n      <td>/conf/invesco/settings/wcm/templates/article-p...</td>\n      <td>Tue, 3 Nov 2020 15:06:30 +0000</td>\n      <td>['nan']</td>\n      <td>['Legislative and regulatory', 'Washington upd...</td>\n      <td>['Election 2020']</td>\n      <td>['Elections']</td>\n      <td>Insight</td>\n      <td>['Institutional']</td>\n      <td>...</td>\n      <td>NaN</td>\n      <td>NaN</td>\n      <td>katta.dheeraj</td>\n      <td>suyog.deshmukh</td>\n      <td>NOT_ACTIVATED</td>\n      <td>jennifer-flitton</td>\n      <td>['Institutional']</td>\n      <td>200</td>\n      <td>https://www.invesco.com/us/en/insights/electio...</td>\n      <td>2020-10-30</td>\n    </tr>\n    <tr>\n      <th>2</th>\n      <td>/content/invesco/us/en/insights/tactical-asset...</td>\n      <td>Tactical asset allocation outlook: November 2020</td>\n      <td>/conf/invesco/settings/wcm/templates/article-p...</td>\n      <td>Wed, 25 Nov 2020 15:12:43 +0000</td>\n      <td>['nan']</td>\n      <td>['Multi Asset', 'Asset allocation', 'Markets a...</td>\n      <td>['Solutions']</td>\n      <td>['Investment solutions']</td>\n      <td>Insight</td>\n      <td>['Institutional']</td>\n      <td>...</td>\n      <td>NaN</td>\n      <td>NaN</td>\n      <td>priya.sasidharan</td>\n      <td>priya.sasidharan</td>\n      <td>NOT_ACTIVATED</td>\n      <td>alessio-de-longis</td>\n      <td>['Institutional']</td>\n      <td>200</td>\n      <td>https://www.invesco.com/us/en/insights/tactica...</td>\n      <td>2020-11-11</td>\n    </tr>\n    <tr>\n      <th>3</th>\n      <td>/content/invesco/us/en/insights/2021-outlook-i...</td>\n      <td>2021 Investment Outlook: Implications for worl...</td>\n      <td>/conf/invesco/settings/wcm/templates/article-p...</td>\n      <td>Tue, 1 Dec 2020 10:05:35 +0000</td>\n      <td>['nan']</td>\n      <td>['Market outlook']</td>\n      <td>['nan']</td>\n      <td>['Macroeconomics &amp; outlook']</td>\n      <td>Insight</td>\n      <td>['Institutional']</td>\n      <td>...</td>\n      <td>NaN</td>\n      <td>NaN</td>\n      <td>priya.sasidharan</td>\n      <td>priya.sasidharan</td>\n      <td>NOT_ACTIVATED</td>\n      <td>invesco-global-market-strategy-office</td>\n      <td>['Institutional']</td>\n      <td>200</td>\n      <td>https://www.invesco.com/us/en/insights/2021-ou...</td>\n      <td>2020-11-30</td>\n    </tr>\n    <tr>\n      <th>4</th>\n      <td>/content/invesco/us/en/insights/shifting-dc-ti...</td>\n      <td>Shifting DC Times: Helping women close the ret...</td>\n      <td>/conf/invesco/settings/wcm/templates/article-p...</td>\n      <td>Mon, 14 Dec 2020 16:46:55 +0000</td>\n      <td>['nan']</td>\n      <td>['Participant engagement', 'Defined contributi...</td>\n      <td>['Shifting DC Times']</td>\n      <td>['nan']</td>\n      <td>Insight</td>\n      <td>['Financial Professional', 'Institutional']</td>\n      <td>...</td>\n      <td>NaN</td>\n      <td>NaN</td>\n      <td>suyog.deshmukh</td>\n      <td>nick.miller</td>\n      <td>NOT_ACTIVATED</td>\n      <td>invesco</td>\n      <td>['FinancialProfessional', 'Institutional']</td>\n      <td>200</td>\n      <td>https://www.invesco.com/us/en/insights/shiftin...</td>\n      <td>2019-06-01</td>\n    </tr>\n    <tr>\n      <th>...</th>\n      <td>...</td>\n      <td>...</td>\n      <td>...</td>\n      <td>...</td>\n      <td>...</td>\n      <td>...</td>\n      <td>...</td>\n      <td>...</td>\n      <td>...</td>\n      <td>...</td>\n      <td>...</td>\n      <td>...</td>\n      <td>...</td>\n      <td>...</td>\n      <td>...</td>\n      <td>...</td>\n      <td>...</td>\n      <td>...</td>\n      <td>...</td>\n      <td>...</td>\n      <td>...</td>\n    </tr>\n    <tr>\n      <th>808</th>\n      <td>/content/invesco/us/en/insights/liability-awar...</td>\n      <td>Liability Aware Investing: A more holistic app...</td>\n      <td>/conf/invesco/settings/wcm/templates/article-p...</td>\n      <td>Mon, 22 Aug 2022 17:53:42 +0000</td>\n      <td>['nan']</td>\n      <td>['Portfolio Construction']</td>\n      <td>['nan']</td>\n      <td>['nan']</td>\n      <td>Insight</td>\n      <td>['Institutional']</td>\n      <td>...</td>\n      <td>NaN</td>\n      <td>NaN</td>\n      <td>saikumar.ambadi</td>\n      <td>saikumar.ambadi</td>\n      <td>NOT_ACTIVATED</td>\n      <td>paisley-nardini</td>\n      <td>['Institutional']</td>\n      <td>200</td>\n      <td>https://www.invesco.com/us/en/insights/liabili...</td>\n      <td>2022-08-19</td>\n    </tr>\n    <tr>\n      <th>809</th>\n      <td>/content/invesco/us/en/insights/new-word-order</td>\n      <td>\"New word order\" program overview</td>\n      <td>/conf/invesco/settings/wcm/templates/article-p...</td>\n      <td>Mon, 22 Aug 2022 18:37:18 +0000</td>\n      <td>['nan']</td>\n      <td>['Client Service']</td>\n      <td>['nan']</td>\n      <td>['Your practice']</td>\n      <td>Insight</td>\n      <td>['Financial Professional']</td>\n      <td>...</td>\n      <td>NaN</td>\n      <td>NaN</td>\n      <td>bharadwaj.cheruvu</td>\n      <td>neha.arora</td>\n      <td>NOT_ACTIVATED</td>\n      <td>invesco-global-consulting</td>\n      <td>['FinancialProfessional']</td>\n      <td>200</td>\n      <td>https://www.invesco.com/us/en/insights/new-wor...</td>\n      <td>NaN</td>\n    </tr>\n    <tr>\n      <th>810</th>\n      <td>/content/invesco/us/en/insights/what-matters-m...</td>\n      <td>\"Energy management for high performance\" progr...</td>\n      <td>/conf/invesco/settings/wcm/templates/article-p...</td>\n      <td>Mon, 22 Aug 2022 18:40:30 +0000</td>\n      <td>['nan']</td>\n      <td>['Client Service', 'Practice Management']</td>\n      <td>['Roadmap to Recovery']</td>\n      <td>['Your practice']</td>\n      <td>Insight</td>\n      <td>['Financial Professional']</td>\n      <td>...</td>\n      <td>NaN</td>\n      <td>NaN</td>\n      <td>bharadwaj.cheruvu</td>\n      <td>neha.arora</td>\n      <td>NOT_ACTIVATED</td>\n      <td>invesco-global-consulting</td>\n      <td>['FinancialProfessional']</td>\n      <td>200</td>\n      <td>https://www.invesco.com/us/en/insights/what-ma...</td>\n      <td>NaN</td>\n    </tr>\n    <tr>\n      <th>811</th>\n      <td>/content/invesco/us/en/insights/remembering-90...</td>\n      <td>Can the Fed manage another soft landing?</td>\n      <td>/conf/invesco/settings/wcm/templates/article-p...</td>\n      <td>Tue, 23 Aug 2022 07:53:44 +0000</td>\n      <td>['nan']</td>\n      <td>['Markets and Economy']</td>\n      <td>['nan']</td>\n      <td>['nan']</td>\n      <td>Insight</td>\n      <td>['Financial Professional', 'Individual Investo...</td>\n      <td>...</td>\n      <td>NaN</td>\n      <td>NaN</td>\n      <td>chikoti.prashanthi</td>\n      <td>chikoti.prashanthi</td>\n      <td>NOT_ACTIVATED</td>\n      <td>KristinaHooper</td>\n      <td>['FinancialProfessional', 'IndividualInvestor'...</td>\n      <td>200</td>\n      <td>https://www.invesco.com/us/en/insights/remembe...</td>\n      <td>2022-08-22</td>\n    </tr>\n    <tr>\n      <th>812</th>\n      <td>/content/invesco/us/en/insights/continuing-edu...</td>\n      <td>Continuing education: Investments library</td>\n      <td>/conf/invesco/settings/wcm/templates/article-p...</td>\n      <td>Wed, 23 Mar 2022 15:01:03 +0000</td>\n      <td>['nan']</td>\n      <td>['Investing Basics', 'ETF', 'Investment Outloo...</td>\n      <td>['nan']</td>\n      <td>['Your practice']</td>\n      <td>Insight</td>\n      <td>['Financial Professional']</td>\n      <td>...</td>\n      <td>NaN</td>\n      <td>NaN</td>\n      <td>bharadwaj.cheruvu</td>\n      <td>neha.arora</td>\n      <td>NOT_ACTIVATED</td>\n      <td>invesco</td>\n      <td>['FinancialProfessional']</td>\n      <td>200</td>\n      <td>https://www.invesco.com/us/en/insights/continu...</td>\n      <td>NaN</td>\n    </tr>\n  </tbody>\n</table>\n<p>813 rows × 25 columns</p>\n</div>"
     },
     "execution_count": 3,
     "metadata": {},
     "output_type": "execute_result"
    }
   ],
   "source": [
    "df = pd.read_csv('../data/test/scraped.csv')\n",
    "df = df.drop(columns='Unnamed: 0')\n",
    "df"
   ],
   "metadata": {
    "collapsed": false,
    "pycharm": {
     "name": "#%%\n"
    }
   }
  },
  {
   "cell_type": "code",
   "execution_count": 4,
   "outputs": [],
   "source": [
    "# Use thread pool executor to perform IO operations\n",
    "# url_list = df['url_with_params'].tolist()\n",
    "#\n",
    "# def get_content(url: str):\n",
    "#     response = requests.get(url)\n",
    "#     content = response.content.decode('utf-8')\n",
    "#     return content\n",
    "#\n",
    "# with tqdm(total=len(url_list)) as pbar:\n",
    "#     with ThreadPoolExecutor() as executor:\n",
    "#         results = executor.map(get_content, url_list)"
   ],
   "metadata": {
    "collapsed": false,
    "pycharm": {
     "name": "#%%\n"
    }
   }
  },
  {
   "cell_type": "code",
   "execution_count": 5,
   "outputs": [],
   "source": [
    "def retrieve_content(row):\n",
    "    url = row['url_with_params']\n",
    "    response = requests.get(url)\n",
    "    row['content'] = response.content.decode('utf-8')\n",
    "    return row"
   ],
   "metadata": {
    "collapsed": false,
    "pycharm": {
     "name": "#%%\n"
    }
   }
  },
  {
   "cell_type": "code",
   "execution_count": 6,
   "outputs": [
    {
     "name": "stderr",
     "output_type": "stream",
     "text": [
      "100%|██████████| 813/813 [10:58<00:00,  1.23it/s]\n"
     ]
    }
   ],
   "source": [
    "df = df.progress_apply(retrieve_content, axis=1)"
   ],
   "metadata": {
    "collapsed": false,
    "pycharm": {
     "name": "#%%\n"
    }
   }
  },
  {
   "cell_type": "code",
   "execution_count": 7,
   "outputs": [
    {
     "data": {
      "text/plain": "                                            aem_path  \\\n0  /content/invesco/us/en/insights/election-2020-...   \n1  /content/invesco/us/en/insights/election-2020-...   \n2  /content/invesco/us/en/insights/tactical-asset...   \n3  /content/invesco/us/en/insights/2021-outlook-i...   \n4  /content/invesco/us/en/insights/shifting-dc-ti...   \n\n                                          page_title  \\\n0    Election 2020: The Senate is definitely in play   \n1    Election 2020: The Senate is definitely in play   \n2   Tactical asset allocation outlook: November 2020   \n3  2021 Investment Outlook: Implications for worl...   \n4  Shifting DC Times: Helping women close the ret...   \n\n                                            template  \\\n0  /conf/invesco/settings/wcm/templates/article-p...   \n1  /conf/invesco/settings/wcm/templates/article-p...   \n2  /conf/invesco/settings/wcm/templates/article-p...   \n3  /conf/invesco/settings/wcm/templates/article-p...   \n4  /conf/invesco/settings/wcm/templates/article-p...   \n\n                     last_modified     tags  \\\n0   Tue, 3 Nov 2020 15:06:30 +0000  ['nan']   \n1   Tue, 3 Nov 2020 15:06:30 +0000  ['nan']   \n2  Wed, 25 Nov 2020 15:12:43 +0000  ['nan']   \n3   Tue, 1 Dec 2020 10:05:35 +0000  ['nan']   \n4  Mon, 14 Dec 2020 16:46:55 +0000  ['nan']   \n\n                                               topic                program  \\\n0  ['Legislative and regulatory', 'Washington upd...      ['Election 2020']   \n1  ['Legislative and regulatory', 'Washington upd...      ['Election 2020']   \n2  ['Multi Asset', 'Asset allocation', 'Markets a...          ['Solutions']   \n3                                 ['Market outlook']                ['nan']   \n4  ['Participant engagement', 'Defined contributi...  ['Shifting DC Times']   \n\n                          theme content_type_tags  \\\n0                 ['Elections']           Insight   \n1                 ['Elections']           Insight   \n2      ['Investment solutions']           Insight   \n3  ['Macroeconomics & outlook']           Insight   \n4                       ['nan']           Insight   \n\n                                     user_role  ... team  last_modified_by  \\\n0                            ['Institutional']  ...  NaN     katta.dheeraj   \n1                            ['Institutional']  ...  NaN     katta.dheeraj   \n2                            ['Institutional']  ...  NaN  priya.sasidharan   \n3                            ['Institutional']  ...  NaN  priya.sasidharan   \n4  ['Financial Professional', 'Institutional']  ...  NaN    suyog.deshmukh   \n\n         created_by  replication_status  \\\n0    suyog.deshmukh       NOT_ACTIVATED   \n1    suyog.deshmukh       NOT_ACTIVATED   \n2  priya.sasidharan       NOT_ACTIVATED   \n3  priya.sasidharan       NOT_ACTIVATED   \n4       nick.miller       NOT_ACTIVATED   \n\n                                 authors  \\\n0                           andy-blocker   \n1                       jennifer-flitton   \n2                      alessio-de-longis   \n3  invesco-global-market-strategy-office   \n4                                invesco   \n\n                              user_role_param  status_code  \\\n0                           ['Institutional']          200   \n1                           ['Institutional']          200   \n2                           ['Institutional']          200   \n3                           ['Institutional']          200   \n4  ['FinancialProfessional', 'Institutional']          200   \n\n                                     url_with_params publish_date  \\\n0  https://www.invesco.com/us/en/insights/electio...   2020-10-30   \n1  https://www.invesco.com/us/en/insights/electio...   2020-10-30   \n2  https://www.invesco.com/us/en/insights/tactica...   2020-11-11   \n3  https://www.invesco.com/us/en/insights/2021-ou...   2020-11-30   \n4  https://www.invesco.com/us/en/insights/shiftin...   2019-06-01   \n\n                                             content  \n0  \\n<!DOCTYPE HTML>\\n<html lang=\"en-us\">\\n\\n    ...  \n1  \\n<!DOCTYPE HTML>\\n<html lang=\"en-us\">\\n\\n    ...  \n2  \\n<!DOCTYPE HTML>\\n<html lang=\"en-us\">\\n\\n    ...  \n3  \\n<!DOCTYPE HTML>\\n<html lang=\"en-us\">\\n\\n    ...  \n4  \\n<!DOCTYPE HTML>\\n<html lang=\"en-us\">\\n\\n    ...  \n\n[5 rows x 26 columns]",
      "text/html": "<div>\n<style scoped>\n    .dataframe tbody tr th:only-of-type {\n        vertical-align: middle;\n    }\n\n    .dataframe tbody tr th {\n        vertical-align: top;\n    }\n\n    .dataframe thead th {\n        text-align: right;\n    }\n</style>\n<table border=\"1\" class=\"dataframe\">\n  <thead>\n    <tr style=\"text-align: right;\">\n      <th></th>\n      <th>aem_path</th>\n      <th>page_title</th>\n      <th>template</th>\n      <th>last_modified</th>\n      <th>tags</th>\n      <th>topic</th>\n      <th>program</th>\n      <th>theme</th>\n      <th>content_type_tags</th>\n      <th>user_role</th>\n      <th>...</th>\n      <th>team</th>\n      <th>last_modified_by</th>\n      <th>created_by</th>\n      <th>replication_status</th>\n      <th>authors</th>\n      <th>user_role_param</th>\n      <th>status_code</th>\n      <th>url_with_params</th>\n      <th>publish_date</th>\n      <th>content</th>\n    </tr>\n  </thead>\n  <tbody>\n    <tr>\n      <th>0</th>\n      <td>/content/invesco/us/en/insights/election-2020-...</td>\n      <td>Election 2020: The Senate is definitely in play</td>\n      <td>/conf/invesco/settings/wcm/templates/article-p...</td>\n      <td>Tue, 3 Nov 2020 15:06:30 +0000</td>\n      <td>['nan']</td>\n      <td>['Legislative and regulatory', 'Washington upd...</td>\n      <td>['Election 2020']</td>\n      <td>['Elections']</td>\n      <td>Insight</td>\n      <td>['Institutional']</td>\n      <td>...</td>\n      <td>NaN</td>\n      <td>katta.dheeraj</td>\n      <td>suyog.deshmukh</td>\n      <td>NOT_ACTIVATED</td>\n      <td>andy-blocker</td>\n      <td>['Institutional']</td>\n      <td>200</td>\n      <td>https://www.invesco.com/us/en/insights/electio...</td>\n      <td>2020-10-30</td>\n      <td>\\n&lt;!DOCTYPE HTML&gt;\\n&lt;html lang=\"en-us\"&gt;\\n\\n    ...</td>\n    </tr>\n    <tr>\n      <th>1</th>\n      <td>/content/invesco/us/en/insights/election-2020-...</td>\n      <td>Election 2020: The Senate is definitely in play</td>\n      <td>/conf/invesco/settings/wcm/templates/article-p...</td>\n      <td>Tue, 3 Nov 2020 15:06:30 +0000</td>\n      <td>['nan']</td>\n      <td>['Legislative and regulatory', 'Washington upd...</td>\n      <td>['Election 2020']</td>\n      <td>['Elections']</td>\n      <td>Insight</td>\n      <td>['Institutional']</td>\n      <td>...</td>\n      <td>NaN</td>\n      <td>katta.dheeraj</td>\n      <td>suyog.deshmukh</td>\n      <td>NOT_ACTIVATED</td>\n      <td>jennifer-flitton</td>\n      <td>['Institutional']</td>\n      <td>200</td>\n      <td>https://www.invesco.com/us/en/insights/electio...</td>\n      <td>2020-10-30</td>\n      <td>\\n&lt;!DOCTYPE HTML&gt;\\n&lt;html lang=\"en-us\"&gt;\\n\\n    ...</td>\n    </tr>\n    <tr>\n      <th>2</th>\n      <td>/content/invesco/us/en/insights/tactical-asset...</td>\n      <td>Tactical asset allocation outlook: November 2020</td>\n      <td>/conf/invesco/settings/wcm/templates/article-p...</td>\n      <td>Wed, 25 Nov 2020 15:12:43 +0000</td>\n      <td>['nan']</td>\n      <td>['Multi Asset', 'Asset allocation', 'Markets a...</td>\n      <td>['Solutions']</td>\n      <td>['Investment solutions']</td>\n      <td>Insight</td>\n      <td>['Institutional']</td>\n      <td>...</td>\n      <td>NaN</td>\n      <td>priya.sasidharan</td>\n      <td>priya.sasidharan</td>\n      <td>NOT_ACTIVATED</td>\n      <td>alessio-de-longis</td>\n      <td>['Institutional']</td>\n      <td>200</td>\n      <td>https://www.invesco.com/us/en/insights/tactica...</td>\n      <td>2020-11-11</td>\n      <td>\\n&lt;!DOCTYPE HTML&gt;\\n&lt;html lang=\"en-us\"&gt;\\n\\n    ...</td>\n    </tr>\n    <tr>\n      <th>3</th>\n      <td>/content/invesco/us/en/insights/2021-outlook-i...</td>\n      <td>2021 Investment Outlook: Implications for worl...</td>\n      <td>/conf/invesco/settings/wcm/templates/article-p...</td>\n      <td>Tue, 1 Dec 2020 10:05:35 +0000</td>\n      <td>['nan']</td>\n      <td>['Market outlook']</td>\n      <td>['nan']</td>\n      <td>['Macroeconomics &amp; outlook']</td>\n      <td>Insight</td>\n      <td>['Institutional']</td>\n      <td>...</td>\n      <td>NaN</td>\n      <td>priya.sasidharan</td>\n      <td>priya.sasidharan</td>\n      <td>NOT_ACTIVATED</td>\n      <td>invesco-global-market-strategy-office</td>\n      <td>['Institutional']</td>\n      <td>200</td>\n      <td>https://www.invesco.com/us/en/insights/2021-ou...</td>\n      <td>2020-11-30</td>\n      <td>\\n&lt;!DOCTYPE HTML&gt;\\n&lt;html lang=\"en-us\"&gt;\\n\\n    ...</td>\n    </tr>\n    <tr>\n      <th>4</th>\n      <td>/content/invesco/us/en/insights/shifting-dc-ti...</td>\n      <td>Shifting DC Times: Helping women close the ret...</td>\n      <td>/conf/invesco/settings/wcm/templates/article-p...</td>\n      <td>Mon, 14 Dec 2020 16:46:55 +0000</td>\n      <td>['nan']</td>\n      <td>['Participant engagement', 'Defined contributi...</td>\n      <td>['Shifting DC Times']</td>\n      <td>['nan']</td>\n      <td>Insight</td>\n      <td>['Financial Professional', 'Institutional']</td>\n      <td>...</td>\n      <td>NaN</td>\n      <td>suyog.deshmukh</td>\n      <td>nick.miller</td>\n      <td>NOT_ACTIVATED</td>\n      <td>invesco</td>\n      <td>['FinancialProfessional', 'Institutional']</td>\n      <td>200</td>\n      <td>https://www.invesco.com/us/en/insights/shiftin...</td>\n      <td>2019-06-01</td>\n      <td>\\n&lt;!DOCTYPE HTML&gt;\\n&lt;html lang=\"en-us\"&gt;\\n\\n    ...</td>\n    </tr>\n  </tbody>\n</table>\n<p>5 rows × 26 columns</p>\n</div>"
     },
     "execution_count": 7,
     "metadata": {},
     "output_type": "execute_result"
    }
   ],
   "source": [
    "df.head()"
   ],
   "metadata": {
    "collapsed": false,
    "pycharm": {
     "name": "#%%\n"
    }
   }
  },
  {
   "cell_type": "code",
   "execution_count": 8,
   "outputs": [],
   "source": [
    "# Parse html content for relevant tags\n",
    "content_list = df['content'].to_list()\n",
    "\n",
    "def parse_text(html_content: str) -> str:\n",
    "    text_parts = list()\n",
    "    soup = BeautifulSoup(html_content, parser='lxml')\n",
    "    key_takeaway_tag = soup.find('div', class_='key-takeaways__list')\n",
    "    if key_takeaway_tag:\n",
    "        # Get text of all children\n",
    "        key_takeaways = key_takeaway_tag.get_text()\n",
    "        # Append takeaways to list to be joined with body text later\n",
    "        text_parts.append(key_takeaways)\n",
    "    body_text_tag = soup.find('section', class_='rich-text-editor')\n",
    "    if body_text_tag:\n",
    "        body_text = body_text_tag.get_text()\n",
    "        text_parts.append(body_text)\n",
    "    # Join text parts with return separator\n",
    "    text = '\\n'.join(text_parts)\n",
    "\n",
    "    return text\n",
    "\n",
    "def extract_texts(html_content: list, function: object) -> list:\n",
    "    text_list = list()\n",
    "    with tqdm(total=len(html_content)) as pbar:\n",
    "        with ThreadPoolExecutor() as executor:\n",
    "            results = executor.map(function, html_content)\n",
    "            for result in results:\n",
    "                text_list.append(result)\n",
    "                pbar.update(1)\n",
    "\n",
    "    return text_list"
   ],
   "metadata": {
    "collapsed": false,
    "pycharm": {
     "name": "#%%\n"
    }
   }
  },
  {
   "cell_type": "markdown",
   "source": [
    "Running the multithreaded text extraction function on the list of all html content retrieved with the requests library."
   ],
   "metadata": {
    "collapsed": false,
    "pycharm": {
     "name": "#%% md\n"
    }
   }
  },
  {
   "cell_type": "code",
   "execution_count": 9,
   "outputs": [
    {
     "name": "stderr",
     "output_type": "stream",
     "text": [
      "100%|██████████| 813/813 [00:49<00:00, 16.45it/s] \n"
     ]
    }
   ],
   "source": [
    "# Run functions\n",
    "texts = extract_texts(content_list, parse_text)"
   ],
   "metadata": {
    "collapsed": false,
    "pycharm": {
     "name": "#%%\n"
    }
   }
  },
  {
   "cell_type": "markdown",
   "source": [
    "Add text list to the datafame."
   ],
   "metadata": {
    "collapsed": false,
    "pycharm": {
     "name": "#%% md\n"
    }
   }
  },
  {
   "cell_type": "code",
   "execution_count": 10,
   "outputs": [
    {
     "data": {
      "text/plain": "                                            aem_path  \\\n0  /content/invesco/us/en/insights/election-2020-...   \n1  /content/invesco/us/en/insights/election-2020-...   \n2  /content/invesco/us/en/insights/tactical-asset...   \n3  /content/invesco/us/en/insights/2021-outlook-i...   \n4  /content/invesco/us/en/insights/shifting-dc-ti...   \n\n                                          page_title  \\\n0    Election 2020: The Senate is definitely in play   \n1    Election 2020: The Senate is definitely in play   \n2   Tactical asset allocation outlook: November 2020   \n3  2021 Investment Outlook: Implications for worl...   \n4  Shifting DC Times: Helping women close the ret...   \n\n                                            template  \\\n0  /conf/invesco/settings/wcm/templates/article-p...   \n1  /conf/invesco/settings/wcm/templates/article-p...   \n2  /conf/invesco/settings/wcm/templates/article-p...   \n3  /conf/invesco/settings/wcm/templates/article-p...   \n4  /conf/invesco/settings/wcm/templates/article-p...   \n\n                     last_modified     tags  \\\n0   Tue, 3 Nov 2020 15:06:30 +0000  ['nan']   \n1   Tue, 3 Nov 2020 15:06:30 +0000  ['nan']   \n2  Wed, 25 Nov 2020 15:12:43 +0000  ['nan']   \n3   Tue, 1 Dec 2020 10:05:35 +0000  ['nan']   \n4  Mon, 14 Dec 2020 16:46:55 +0000  ['nan']   \n\n                                               topic                program  \\\n0  ['Legislative and regulatory', 'Washington upd...      ['Election 2020']   \n1  ['Legislative and regulatory', 'Washington upd...      ['Election 2020']   \n2  ['Multi Asset', 'Asset allocation', 'Markets a...          ['Solutions']   \n3                                 ['Market outlook']                ['nan']   \n4  ['Participant engagement', 'Defined contributi...  ['Shifting DC Times']   \n\n                          theme content_type_tags  \\\n0                 ['Elections']           Insight   \n1                 ['Elections']           Insight   \n2      ['Investment solutions']           Insight   \n3  ['Macroeconomics & outlook']           Insight   \n4                       ['nan']           Insight   \n\n                                     user_role  ...  last_modified_by  \\\n0                            ['Institutional']  ...     katta.dheeraj   \n1                            ['Institutional']  ...     katta.dheeraj   \n2                            ['Institutional']  ...  priya.sasidharan   \n3                            ['Institutional']  ...  priya.sasidharan   \n4  ['Financial Professional', 'Institutional']  ...    suyog.deshmukh   \n\n         created_by replication_status                                authors  \\\n0    suyog.deshmukh      NOT_ACTIVATED                           andy-blocker   \n1    suyog.deshmukh      NOT_ACTIVATED                       jennifer-flitton   \n2  priya.sasidharan      NOT_ACTIVATED                      alessio-de-longis   \n3  priya.sasidharan      NOT_ACTIVATED  invesco-global-market-strategy-office   \n4       nick.miller      NOT_ACTIVATED                                invesco   \n\n                              user_role_param  status_code  \\\n0                           ['Institutional']          200   \n1                           ['Institutional']          200   \n2                           ['Institutional']          200   \n3                           ['Institutional']          200   \n4  ['FinancialProfessional', 'Institutional']          200   \n\n                                     url_with_params publish_date  \\\n0  https://www.invesco.com/us/en/insights/electio...   2020-10-30   \n1  https://www.invesco.com/us/en/insights/electio...   2020-10-30   \n2  https://www.invesco.com/us/en/insights/tactica...   2020-11-11   \n3  https://www.invesco.com/us/en/insights/2021-ou...   2020-11-30   \n4  https://www.invesco.com/us/en/insights/shiftin...   2019-06-01   \n\n                                             content  \\\n0  \\n<!DOCTYPE HTML>\\n<html lang=\"en-us\">\\n\\n    ...   \n1  \\n<!DOCTYPE HTML>\\n<html lang=\"en-us\">\\n\\n    ...   \n2  \\n<!DOCTYPE HTML>\\n<html lang=\"en-us\">\\n\\n    ...   \n3  \\n<!DOCTYPE HTML>\\n<html lang=\"en-us\">\\n\\n    ...   \n4  \\n<!DOCTYPE HTML>\\n<html lang=\"en-us\">\\n\\n    ...   \n\n                                               texts  \n0  \\n\\n\\nRepublicans on the defensive\\n\\n1\\nBiden...  \n1  \\n\\n\\nRepublicans on the defensive\\n\\n1\\nBiden...  \n2  \\n\\nThe return of the coronavirus across Europ...  \n3  \\n\\nOur base, upside, and downside scenarios f...  \n4  \\n\\nThe retirement savings gap between men and...  \n\n[5 rows x 27 columns]",
      "text/html": "<div>\n<style scoped>\n    .dataframe tbody tr th:only-of-type {\n        vertical-align: middle;\n    }\n\n    .dataframe tbody tr th {\n        vertical-align: top;\n    }\n\n    .dataframe thead th {\n        text-align: right;\n    }\n</style>\n<table border=\"1\" class=\"dataframe\">\n  <thead>\n    <tr style=\"text-align: right;\">\n      <th></th>\n      <th>aem_path</th>\n      <th>page_title</th>\n      <th>template</th>\n      <th>last_modified</th>\n      <th>tags</th>\n      <th>topic</th>\n      <th>program</th>\n      <th>theme</th>\n      <th>content_type_tags</th>\n      <th>user_role</th>\n      <th>...</th>\n      <th>last_modified_by</th>\n      <th>created_by</th>\n      <th>replication_status</th>\n      <th>authors</th>\n      <th>user_role_param</th>\n      <th>status_code</th>\n      <th>url_with_params</th>\n      <th>publish_date</th>\n      <th>content</th>\n      <th>texts</th>\n    </tr>\n  </thead>\n  <tbody>\n    <tr>\n      <th>0</th>\n      <td>/content/invesco/us/en/insights/election-2020-...</td>\n      <td>Election 2020: The Senate is definitely in play</td>\n      <td>/conf/invesco/settings/wcm/templates/article-p...</td>\n      <td>Tue, 3 Nov 2020 15:06:30 +0000</td>\n      <td>['nan']</td>\n      <td>['Legislative and regulatory', 'Washington upd...</td>\n      <td>['Election 2020']</td>\n      <td>['Elections']</td>\n      <td>Insight</td>\n      <td>['Institutional']</td>\n      <td>...</td>\n      <td>katta.dheeraj</td>\n      <td>suyog.deshmukh</td>\n      <td>NOT_ACTIVATED</td>\n      <td>andy-blocker</td>\n      <td>['Institutional']</td>\n      <td>200</td>\n      <td>https://www.invesco.com/us/en/insights/electio...</td>\n      <td>2020-10-30</td>\n      <td>\\n&lt;!DOCTYPE HTML&gt;\\n&lt;html lang=\"en-us\"&gt;\\n\\n    ...</td>\n      <td>\\n\\n\\nRepublicans on the defensive\\n\\n1\\nBiden...</td>\n    </tr>\n    <tr>\n      <th>1</th>\n      <td>/content/invesco/us/en/insights/election-2020-...</td>\n      <td>Election 2020: The Senate is definitely in play</td>\n      <td>/conf/invesco/settings/wcm/templates/article-p...</td>\n      <td>Tue, 3 Nov 2020 15:06:30 +0000</td>\n      <td>['nan']</td>\n      <td>['Legislative and regulatory', 'Washington upd...</td>\n      <td>['Election 2020']</td>\n      <td>['Elections']</td>\n      <td>Insight</td>\n      <td>['Institutional']</td>\n      <td>...</td>\n      <td>katta.dheeraj</td>\n      <td>suyog.deshmukh</td>\n      <td>NOT_ACTIVATED</td>\n      <td>jennifer-flitton</td>\n      <td>['Institutional']</td>\n      <td>200</td>\n      <td>https://www.invesco.com/us/en/insights/electio...</td>\n      <td>2020-10-30</td>\n      <td>\\n&lt;!DOCTYPE HTML&gt;\\n&lt;html lang=\"en-us\"&gt;\\n\\n    ...</td>\n      <td>\\n\\n\\nRepublicans on the defensive\\n\\n1\\nBiden...</td>\n    </tr>\n    <tr>\n      <th>2</th>\n      <td>/content/invesco/us/en/insights/tactical-asset...</td>\n      <td>Tactical asset allocation outlook: November 2020</td>\n      <td>/conf/invesco/settings/wcm/templates/article-p...</td>\n      <td>Wed, 25 Nov 2020 15:12:43 +0000</td>\n      <td>['nan']</td>\n      <td>['Multi Asset', 'Asset allocation', 'Markets a...</td>\n      <td>['Solutions']</td>\n      <td>['Investment solutions']</td>\n      <td>Insight</td>\n      <td>['Institutional']</td>\n      <td>...</td>\n      <td>priya.sasidharan</td>\n      <td>priya.sasidharan</td>\n      <td>NOT_ACTIVATED</td>\n      <td>alessio-de-longis</td>\n      <td>['Institutional']</td>\n      <td>200</td>\n      <td>https://www.invesco.com/us/en/insights/tactica...</td>\n      <td>2020-11-11</td>\n      <td>\\n&lt;!DOCTYPE HTML&gt;\\n&lt;html lang=\"en-us\"&gt;\\n\\n    ...</td>\n      <td>\\n\\nThe return of the coronavirus across Europ...</td>\n    </tr>\n    <tr>\n      <th>3</th>\n      <td>/content/invesco/us/en/insights/2021-outlook-i...</td>\n      <td>2021 Investment Outlook: Implications for worl...</td>\n      <td>/conf/invesco/settings/wcm/templates/article-p...</td>\n      <td>Tue, 1 Dec 2020 10:05:35 +0000</td>\n      <td>['nan']</td>\n      <td>['Market outlook']</td>\n      <td>['nan']</td>\n      <td>['Macroeconomics &amp; outlook']</td>\n      <td>Insight</td>\n      <td>['Institutional']</td>\n      <td>...</td>\n      <td>priya.sasidharan</td>\n      <td>priya.sasidharan</td>\n      <td>NOT_ACTIVATED</td>\n      <td>invesco-global-market-strategy-office</td>\n      <td>['Institutional']</td>\n      <td>200</td>\n      <td>https://www.invesco.com/us/en/insights/2021-ou...</td>\n      <td>2020-11-30</td>\n      <td>\\n&lt;!DOCTYPE HTML&gt;\\n&lt;html lang=\"en-us\"&gt;\\n\\n    ...</td>\n      <td>\\n\\nOur base, upside, and downside scenarios f...</td>\n    </tr>\n    <tr>\n      <th>4</th>\n      <td>/content/invesco/us/en/insights/shifting-dc-ti...</td>\n      <td>Shifting DC Times: Helping women close the ret...</td>\n      <td>/conf/invesco/settings/wcm/templates/article-p...</td>\n      <td>Mon, 14 Dec 2020 16:46:55 +0000</td>\n      <td>['nan']</td>\n      <td>['Participant engagement', 'Defined contributi...</td>\n      <td>['Shifting DC Times']</td>\n      <td>['nan']</td>\n      <td>Insight</td>\n      <td>['Financial Professional', 'Institutional']</td>\n      <td>...</td>\n      <td>suyog.deshmukh</td>\n      <td>nick.miller</td>\n      <td>NOT_ACTIVATED</td>\n      <td>invesco</td>\n      <td>['FinancialProfessional', 'Institutional']</td>\n      <td>200</td>\n      <td>https://www.invesco.com/us/en/insights/shiftin...</td>\n      <td>2019-06-01</td>\n      <td>\\n&lt;!DOCTYPE HTML&gt;\\n&lt;html lang=\"en-us\"&gt;\\n\\n    ...</td>\n      <td>\\n\\nThe retirement savings gap between men and...</td>\n    </tr>\n  </tbody>\n</table>\n<p>5 rows × 27 columns</p>\n</div>"
     },
     "execution_count": 10,
     "metadata": {},
     "output_type": "execute_result"
    }
   ],
   "source": [
    "df['texts'] = texts\n",
    "df.head()"
   ],
   "metadata": {
    "collapsed": false,
    "pycharm": {
     "name": "#%%\n"
    }
   }
  },
  {
   "cell_type": "markdown",
   "source": [
    "## Preprocess Texts"
   ],
   "metadata": {
    "collapsed": false,
    "pycharm": {
     "name": "#%% md\n"
    }
   }
  },
  {
   "cell_type": "markdown",
   "source": [
    "Retrieving stopwords"
   ],
   "metadata": {
    "collapsed": false,
    "pycharm": {
     "name": "#%% md\n"
    }
   }
  },
  {
   "cell_type": "markdown",
   "source": [],
   "metadata": {
    "collapsed": false,
    "pycharm": {
     "name": "#%% md\n"
    }
   }
  },
  {
   "cell_type": "code",
   "execution_count": 11,
   "outputs": [
    {
     "name": "stdout",
     "output_type": "stream",
     "text": [
      "['i', 'me', 'my', 'myself', 'we', 'our', 'ours', 'ourselves', 'you', \"you're\", \"you've\", \"you'll\", \"you'd\", 'your', 'yours', 'yourself', 'yourselves', 'he', 'him', 'his', 'himself', 'she', \"she's\", 'her', 'hers', 'herself', 'it', \"it's\", 'its', 'itself', 'they', 'them', 'their', 'theirs', 'themselves', 'what', 'which', 'who', 'whom', 'this', 'that', \"that'll\", 'these', 'those', 'am', 'is', 'are', 'was', 'were', 'be', 'been', 'being', 'have', 'has', 'had', 'having', 'do', 'does', 'did', 'doing', 'a', 'an', 'the', 'and', 'but', 'if', 'or', 'because', 'as', 'until', 'while', 'of', 'at', 'by', 'for', 'with', 'about', 'against', 'between', 'into', 'through', 'during', 'before', 'after', 'above', 'below', 'to', 'from', 'up', 'down', 'in', 'out', 'on', 'off', 'over', 'under', 'again', 'further', 'then', 'once', 'here', 'there', 'when', 'where', 'why', 'how', 'all', 'any', 'both', 'each', 'few', 'more', 'most', 'other', 'some', 'such', 'no', 'nor', 'not', 'only', 'own', 'same', 'so', 'than', 'too', 'very', 's', 't', 'can', 'will', 'just', 'don', \"don't\", 'should', \"should've\", 'now', 'd', 'll', 'm', 'o', 're', 've', 'y', 'ain', 'aren', \"aren't\", 'couldn', \"couldn't\", 'didn', \"didn't\", 'doesn', \"doesn't\", 'hadn', \"hadn't\", 'hasn', \"hasn't\", 'haven', \"haven't\", 'isn', \"isn't\", 'ma', 'mightn', \"mightn't\", 'mustn', \"mustn't\", 'needn', \"needn't\", 'shan', \"shan't\", 'shouldn', \"shouldn't\", 'wasn', \"wasn't\", 'weren', \"weren't\", 'won', \"won't\", 'wouldn', \"wouldn't\"]\n"
     ]
    }
   ],
   "source": [
    "stop_words = stopwords.words('english')\n",
    "print(stop_words)"
   ],
   "metadata": {
    "collapsed": false,
    "pycharm": {
     "name": "#%%\n"
    }
   }
  },
  {
   "cell_type": "markdown",
   "source": [
    "Lemmatizing texts using spacy."
   ],
   "metadata": {
    "collapsed": false,
    "pycharm": {
     "name": "#%% md\n"
    }
   }
  },
  {
   "cell_type": "code",
   "execution_count": 12,
   "outputs": [],
   "source": [
    "def lemmatize(data, allowed_postags=None) -> list[str]:\n",
    "    if allowed_postags is None:\n",
    "        allowed_postags = ['NOUN', 'ADJ', 'VERB', 'ADV']\n",
    "    nlp = spacy.load('en_core_web_sm', disable=['parser', 'ner'])\n",
    "    texts_out = []\n",
    "    with tqdm(total=len(data)) as pbar:\n",
    "        for text in data:\n",
    "            doc = nlp(text)\n",
    "            new_text = []\n",
    "            for token in doc:\n",
    "                if token.pos_ in allowed_postags:\n",
    "                    new_text.append(token.lemma_)\n",
    "            joined = ' '.join(new_text)\n",
    "            texts_out.append(joined)\n",
    "            pbar.update(1)\n",
    "\n",
    "    return texts_out"
   ],
   "metadata": {
    "collapsed": false,
    "pycharm": {
     "name": "#%%\n"
    }
   }
  },
  {
   "cell_type": "code",
   "execution_count": 13,
   "outputs": [
    {
     "name": "stderr",
     "output_type": "stream",
     "text": [
      "100%|██████████| 813/813 [00:39<00:00, 20.76it/s] \n"
     ]
    }
   ],
   "source": [
    "# Running lemmatization function on data\n",
    "lemmatized_texts = lemmatize(texts)"
   ],
   "metadata": {
    "collapsed": false,
    "pycharm": {
     "name": "#%%\n"
    }
   }
  },
  {
   "cell_type": "code",
   "execution_count": 14,
   "outputs": [
    {
     "name": "stdout",
     "output_type": "stream",
     "text": [
      "defensive lead cash support democratic candidate back foot red state good bad news democrat more rep\n"
     ]
    }
   ],
   "source": [
    "print(lemmatized_texts[0][:100])"
   ],
   "metadata": {
    "collapsed": false,
    "pycharm": {
     "name": "#%%\n"
    }
   }
  },
  {
   "cell_type": "markdown",
   "source": [
    "Preprocessing lemmetized texts with gensim simple preprocess."
   ],
   "metadata": {
    "collapsed": false,
    "pycharm": {
     "name": "#%% md\n"
    }
   }
  },
  {
   "cell_type": "code",
   "execution_count": 15,
   "outputs": [],
   "source": [
    "def generate_words(data: list) -> list:\n",
    "    final = []\n",
    "    for text in tqdm(data):\n",
    "        new_text = simple_preprocess(text, deacc=True)\n",
    "        final.append(new_text)\n",
    "\n",
    "    return final"
   ],
   "metadata": {
    "collapsed": false,
    "pycharm": {
     "name": "#%%\n"
    }
   }
  },
  {
   "cell_type": "code",
   "execution_count": 16,
   "outputs": [
    {
     "name": "stderr",
     "output_type": "stream",
     "text": [
      "100%|██████████| 813/813 [00:00<00:00, 1468.88it/s]\n"
     ]
    }
   ],
   "source": [
    "# Generating words with generator function\n",
    "text_words = generate_words(lemmatized_texts)"
   ],
   "metadata": {
    "collapsed": false,
    "pycharm": {
     "name": "#%%\n"
    }
   }
  },
  {
   "cell_type": "code",
   "execution_count": 17,
   "outputs": [
    {
     "name": "stdout",
     "output_type": "stream",
     "text": [
      "['defensive', 'lead', 'cash', 'support', 'democratic', 'candidate', 'back', 'foot', 'red', 'state', 'good', 'bad', 'news', 'democrat', 'more', 'republican', 'seat', 'play', 'many', 'usually', 'reliable', 'red', 'state', 'several', 'scenario', 'consider', 'regardless', 'win', 'presidency', 'fortune', 'next', 'administration', 'rest', 'solely', 'hand', 'year', 'ago', 'look', 'map', 'seat', 'conclude', 'difficult', 'path', 'back', 'majority', 'fast', 'forward', 'year', 'persistent', 'lead', 'former', 'gusher', 'campaign', 'cash', 'democratic', 'candidate', 'suddenly', 'play', 'defense', 'usually', 'reliable', 'red', 'state', 'good', 'news', 'more', 'republican', 'seat', 'play', 'democratic', 'seat', 'bad', 'news', 'many', 'seat', 'red', 'state', 'nation', 'just', 'day', 'away', 'election', 'consider', 'factor', 'give', 'democratic', 'challenger', 'hope', 'republican', 'incumbent', 'cause', 'concern', 'include', 'money', 'long', 'say', 'money', 'mother', 'milk', 'politic']\n"
     ]
    }
   ],
   "source": [
    "print(text_words[0][:100])"
   ],
   "metadata": {
    "collapsed": false,
    "pycharm": {
     "name": "#%%\n"
    }
   }
  },
  {
   "cell_type": "markdown",
   "source": [
    "Creating a corpus.\n",
    "\n",
    "It is important to note that our corpus is relatively small, thus should likely be expanded. It could also be pertinent to expend the corpus outside of our scope by adding 3rd party finance specific dictionaries."
   ],
   "metadata": {
    "collapsed": false,
    "pycharm": {
     "name": "#%% md\n"
    }
   }
  },
  {
   "cell_type": "code",
   "execution_count": 18,
   "outputs": [
    {
     "name": "stderr",
     "output_type": "stream",
     "text": [
      "100%|██████████| 813/813 [00:00<00:00, 5903.11it/s]\n"
     ]
    }
   ],
   "source": [
    "id2word = corpora.Dictionary(text_words)\n",
    "corpus = []\n",
    "for text in tqdm(text_words):\n",
    "    bag_of_words = id2word.doc2bow(text)\n",
    "    corpus.append(bag_of_words)"
   ],
   "metadata": {
    "collapsed": false,
    "pycharm": {
     "name": "#%%\n"
    }
   }
  },
  {
   "cell_type": "code",
   "execution_count": 19,
   "outputs": [
    {
     "name": "stdout",
     "output_type": "stream",
     "text": [
      "[(0, 1), (1, 1), (2, 1), (3, 3), (4, 1), (5, 1), (6, 1), (7, 1), (8, 1), (9, 1), (10, 2), (11, 2), (12, 1), (13, 1), (14, 1), (15, 1), (16, 1), (17, 3), (18, 1), (19, 1)]\n"
     ]
    }
   ],
   "source": [
    "print(corpus[0][0:20])"
   ],
   "metadata": {
    "collapsed": false,
    "pycharm": {
     "name": "#%%\n"
    }
   }
  },
  {
   "cell_type": "markdown",
   "source": [
    "Creating the LDA model."
   ],
   "metadata": {
    "collapsed": false,
    "pycharm": {
     "name": "#%% md\n"
    }
   }
  },
  {
   "cell_type": "code",
   "execution_count": 53,
   "outputs": [],
   "source": [
    "model = gensim.models.ldamodel.LdaModel(\n",
    "    corpus=corpus,\n",
    "    num_topics=12,\n",
    "    random_state=100,\n",
    "    update_every=1,\n",
    "    chunksize=100,\n",
    "    passes=10,\n",
    "    alpha='auto'\n",
    ")"
   ],
   "metadata": {
    "collapsed": false,
    "pycharm": {
     "name": "#%%\n"
    }
   }
  },
  {
   "cell_type": "markdown",
   "source": [
    "## Visualizing the result"
   ],
   "metadata": {
    "collapsed": false,
    "pycharm": {
     "name": "#%% md\n"
    }
   }
  },
  {
   "cell_type": "code",
   "execution_count": 54,
   "outputs": [
    {
     "name": "stderr",
     "output_type": "stream",
     "text": [
      "/Users/xaviergill/opt/anaconda3/envs/nlp/lib/python3.9/site-packages/pyLDAvis/_prepare.py:246: FutureWarning: In a future version of pandas all arguments of DataFrame.drop except for the argument 'labels' will be keyword-only.\n",
      "  default_term_info = default_term_info.sort_values(\n"
     ]
    }
   ],
   "source": [
    "pyLDAvis.enable_notebook()\n",
    "vis = gensimviz.prepare(model, corpus, id2word, mds='mmds', R=10)"
   ],
   "metadata": {
    "collapsed": false,
    "pycharm": {
     "name": "#%%\n"
    }
   }
  },
  {
   "cell_type": "code",
   "execution_count": 55,
   "outputs": [
    {
     "data": {
      "text/plain": "PreparedData(topic_coordinates=              x         y  topics  cluster       Freq\ntopic                                                \n0      0.303373 -0.030370       1        1  27.061407\n2      0.159012 -0.307878       2        1  22.797132\n7     -0.213430 -0.264225       3        1  15.484968\n11    -0.051833 -0.324642       4        1  13.965277\n6      0.316221 -0.198429       5        1   5.556776\n3     -0.333213 -0.035675       6        1   4.487557\n5      0.238405  0.212091       7        1   3.115188\n8     -0.091564 -0.040354       8        1   2.884497\n9      0.088689  0.278266       9        1   2.436400\n4     -0.145112  0.406534      10        1   1.234045\n1     -0.252909  0.182258      11        1   0.972670\n10    -0.017638  0.122424      12        1   0.004083, topic_info=          Term         Freq        Total Category  logprob  loglift\n173     market  1583.000000  1583.000000  Default  10.0000  10.0000\n320   investor   653.000000   653.000000  Default   9.0000   9.0000\n163     growth   793.000000   793.000000  Default   8.0000   8.0000\n159  financial   424.000000   424.000000  Default   7.0000   7.0000\n336       plan   466.000000   466.000000  Default   6.0000   6.0000\n..         ...          ...          ...      ...      ...      ...\n5        allow     0.000823   102.124458  Topic12  -8.8317  -1.6225\n6    ambitious     0.000823     8.701106  Topic12  -8.8317   0.8403\n7       amount     0.000823    55.189246  Topic12  -8.8317  -1.0071\n8           as     0.000823   340.970289  Topic12  -8.8317  -2.8281\n9         away     0.000823    41.652948  Topic12  -8.8317  -0.7257\n\n[266 rows x 6 columns], token_table=      Topic      Freq     Term\nterm                          \n0         1  0.345966    about\n0         3  0.155685    about\n0         4  0.501650    about\n658       1  0.089464  account\n658       4  0.119285  account\n...     ...       ...      ...\n132       6  0.113190     year\n132       7  0.015033     year\n132       8  0.040678     year\n777       1  0.852726    yield\n777       6  0.142596    yield\n\n[552 rows x 3 columns], R=10, lambda_step=0.01, plot_opts={'xlab': 'PC1', 'ylab': 'PC2'}, topic_order=[1, 3, 8, 12, 7, 4, 6, 9, 10, 5, 2, 11])",
      "text/html": "\n<link rel=\"stylesheet\" type=\"text/css\" href=\"https://cdn.jsdelivr.net/gh/bmabey/pyLDAvis@3.3.1/pyLDAvis/js/ldavis.v1.0.0.css\">\n\n\n<div id=\"ldavis_el6484559926044965121341899\"></div>\n<script type=\"text/javascript\">\n\nvar ldavis_el6484559926044965121341899_data = {\"mdsDat\": {\"x\": [0.3033732314478121, 0.15901249303434534, -0.21343028765172337, -0.05183343372206967, 0.3162210744459042, -0.3332132028233593, 0.23840484842534107, -0.0915644909535902, 0.08868862691343767, -0.1451116303787996, -0.2529093607230988, -0.017637868014199504], \"y\": [-0.03036958729785114, -0.3078784912923573, -0.26422537871610563, -0.32464188874447686, -0.1984291630671544, -0.035675159976442335, 0.21209133572468597, -0.040353927001075915, 0.27826615939182064, 0.40653442947570256, 0.1822576716715364, 0.122423999831718], \"topics\": [1, 2, 3, 4, 5, 6, 7, 8, 9, 10, 11, 12], \"cluster\": [1, 1, 1, 1, 1, 1, 1, 1, 1, 1, 1, 1], \"Freq\": [27.061407257085555, 22.79713177755044, 15.48496821580272, 13.965277158540177, 5.556776172056374, 4.487556544235933, 3.115188070886514, 2.8844971273423776, 2.4363998671568807, 1.2340446278571098, 0.9726703770267076, 0.004082804459206064]}, \"tinfo\": {\"Term\": [\"market\", \"investor\", \"growth\", \"financial\", \"plan\", \"equity\", \"company\", \"rate\", \"policy\", \"year\", \"emerge\", \"dress\", \"cycle\", \"regime\", \"curve\", \"policymaker\", \"indicator\", \"currency\", \"macro\", \"grade\", \"bond\", \"rate\", \"fix\", \"market\", \"interest\", \"corporate\", \"long\", \"yield\", \"term\", \"inflation\", \"investor\", \"stock\", \"risk\", \"high\", \"year\", \"labor\", \"landing\", \"pivot\", \"forecast\", \"soft\", \"eurozone\", \"due\", \"news\", \"revise\", \"mention\", \"hope\", \"week\", \"pressure\", \"recession\", \"last\", \"consumer\", \"economy\", \"report\", \"give\", \"as\", \"economic\", \"earning\", \"inflation\", \"growth\", \"more\", \"expect\", \"industrial\", \"equipment\", \"mining\", \"side\", \"structural\", \"tech\", \"underground\", \"health\", \"material\", \"constraint\", \"capital\", \"technology\", \"industry\", \"quality\", \"company\", \"own\", \"change\", \"more\", \"many\", \"year\", \"world\", \"retirement\", \"hedging\", \"design\", \"compelling\", \"objective\", \"execute\", \"holistic\", \"habit\", \"goal\", \"solution\", \"rely\", \"approach\", \"program\", \"sponsor\", \"help\", \"provide\", \"team\", \"more\", \"benefit\", \"asset\", \"investment\", \"financial\", \"most\", \"property\", \"wedding\", \"bridesmaid\", \"remember\", \"speech\", \"send\", \"mortgage\", \"positively\", \"fan\", \"divine\", \"attempt\", \"hawkish\", \"think\", \"back\", \"get\", \"first\", \"today\", \"look\", \"few\", \"time\", \"policy\", \"natural\", \"midstream\", \"pipeline\", \"buyback\", \"subsector\", \"exit\", \"barrel\", \"proxy\", \"bps\", \"diversifier\", \"distribution\", \"oil\", \"gas\", \"compare\", \"total\", \"average\", \"month\", \"quarter\", \"price\", \"year\", \"high\", \"end\", \"election\", \"vote\", \"version\", \"bipartisan\", \"ceiling\", \"seat\", \"candidate\", \"reconciliation\", \"democratic\", \"midterm\", \"bill\", \"package\", \"debt\", \"pass\", \"state\", \"government\", \"political\", \"liability\", \"fiduciary\", \"education\", \"college\", \"responsibility\", \"student\", \"journey\", \"tuition\", \"expense\", \"withdrawal\", \"committee\", \"school\", \"account\", \"tax\", \"saving\", \"plan\", \"member\", \"year\", \"climate\", \"differentiate\", \"toolkit\", \"emission\", \"initiative\", \"celebrate\", \"crossroad\", \"petroleum\", \"ally\", \"complexity\", \"agency\", \"administration\", \"clean\", \"promise\", \"infrastructure\", \"energy\", \"policy\", \"include\", \"country\", \"support\", \"capitalization\", \"style\", \"tap\", \"underexposed\", \"premier\", \"emotional\", \"selection\", \"phrase\", \"exploration\", \"dial\", \"overlook\", \"cap\", \"manager\", \"mid\", \"offer\", \"equity\", \"strategy\", \"plan\", \"portfolio\", \"participant\", \"growth\", \"potential\", \"clientele\", \"specialist\", \"dream\", \"esg\", \"scientific\", \"lunch\", \"surgeon\", \"physician\", \"doctor\", \"prospective\", \"word\", \"effectively\", \"client\", \"research\", \"professional\", \"financial\", \"card\", \"say\", \"practice\", \"investor\", \"know\", \"coat\", \"deserve\", \"differentiating\", \"standout\", \"astonishingly\", \"couch\", \"dearth\", \"menacing\", \"notorious\", \"reflective\", \"about\", \"accurate\", \"administration\", \"agenda\", \"ago\", \"allow\", \"ambitious\", \"amount\", \"as\", \"away\"], \"Freq\": [1583.0, 653.0, 793.0, 424.0, 466.0, 349.0, 737.0, 959.0, 452.0, 1130.0, 274.1769800248484, 188.624731170538, 184.90526559708152, 124.48643153838489, 120.22408686363275, 101.83048001144962, 99.50144950970773, 98.58547911641281, 83.30596805438908, 76.05650093095507, 295.7701376309968, 894.7972558823957, 187.7976864790945, 1251.8003983479755, 313.14755761614646, 210.3256643265191, 493.5656025486233, 299.2683632258865, 530.1202507081692, 576.7344025121884, 444.93414297117556, 375.91238443019057, 369.8147413124939, 427.998019934703, 469.90010987863127, 175.41452320302287, 126.09520456555043, 123.05820569871587, 120.67028909300129, 111.76298577193079, 110.8442079517124, 87.40555783129082, 137.02123088135585, 76.83507327268286, 76.013719712279, 108.18883079248373, 331.99362111496, 203.07668169583647, 281.857360305155, 270.04445446194603, 199.41045181420293, 463.8845688828763, 217.5152574437207, 253.65226399675836, 246.37927736569546, 318.2540378676539, 216.72101706581506, 338.53927097790336, 299.649441022161, 321.9600728323497, 249.06090301673729, 180.05344290814475, 145.58781957393902, 137.28272727817892, 104.50761293304721, 99.78266738603652, 93.100937973381, 79.46898431869982, 85.2352669175907, 72.75964984275991, 69.25312489188993, 173.20408217177993, 224.4515432191116, 221.64960440838266, 145.4391424660586, 517.1452318838896, 116.98735135522736, 207.92691142739884, 307.52402858820716, 217.84126044879005, 250.9714577374093, 178.72901707710182, 163.8169666687986, 118.7854295994918, 98.03369737284835, 94.60677953751069, 87.49736801330904, 86.69092191631948, 65.23205788965167, 60.70379908702366, 60.34211261373314, 57.84731449036594, 75.74838433347605, 137.44033912817696, 144.6366484177308, 90.70692023267995, 366.60482037248624, 204.57644475787365, 176.62170567654022, 375.69375742507015, 164.94863970554266, 217.58031512582932, 196.93296077086524, 175.25094931596837, 163.4212896035437, 141.80637627005365, 92.83885356932733, 61.32167989376661, 58.227628491685095, 50.88205175927246, 59.00016609635761, 35.69966731811119, 34.03496909608645, 33.14297637820253, 31.21580484692529, 41.20503729917476, 62.69273266269835, 149.1446261554554, 141.21484143688133, 129.15512989865536, 93.87405738902444, 80.04403529087541, 82.10806989513198, 74.35524407150211, 84.11776937357898, 74.48789179612803, 172.99027977973577, 73.27996825673175, 58.75873299065469, 58.37608458410677, 40.186434621674756, 37.93451949573359, 33.86164616066521, 30.53097848813016, 30.17669203825141, 28.47288304837607, 81.41558297774613, 86.8762361925924, 153.3447881654031, 68.67131618269319, 69.59062900827409, 80.76657855335279, 142.6801731665514, 100.33812309481962, 110.7655604737256, 128.31805450693673, 103.26953369591564, 82.70802964034033, 109.20354375358362, 73.60649961855734, 54.77404291402477, 44.75729719207089, 42.27811229179419, 40.85897304671226, 36.636097637090664, 35.874908786641306, 33.675138616831276, 32.46329137652582, 126.36749878650524, 72.84782614154166, 104.7483607901728, 52.407937667855506, 66.1524467916551, 66.16339347253762, 48.10433399142549, 206.50691560291423, 42.89815983088347, 39.540530892298605, 38.16594225177375, 29.549303542072096, 26.119982428975877, 21.843167131256873, 17.67337550493147, 66.76212057700222, 15.272981088658717, 38.65741221879717, 31.18528925725796, 78.69724968683302, 96.76358865346685, 65.49394737132148, 262.1496561282125, 57.168138451260894, 45.92667345604462, 65.24440340730189, 57.53828779149669, 41.20282145465164, 33.74013827332657, 31.61163240493971, 31.24133216667867, 22.095795293600226, 20.231166876147626, 18.29480469147166, 16.415949499756213, 33.525200111376414, 64.9502883831931, 31.666168111895974, 26.269285230220706, 42.015080515619964, 69.8923342589629, 64.28660615290022, 47.654612677846984, 42.650061720745775, 36.17695304762009, 23.334503830431167, 23.173179700937403, 21.921135062080463, 21.127794928448644, 20.669379199032168, 16.00346979077692, 11.586612857332577, 6.224736693437277, 5.69307385283291, 5.592362496228885, 21.015567446464818, 82.88917359706056, 44.776694693797296, 76.64135982914614, 60.517464179444445, 90.668831962202, 36.31168248065347, 51.39604868645471, 38.64348049486625, 32.98347464548339, 45.70193555804675, 34.61959269651443, 22.20056352771907, 17.60409671389436, 17.266569007243493, 14.371883951608249, 14.216966301737513, 12.186847619464002, 10.341400635698944, 7.6550295631053515, 7.654856977992518, 6.934272236246574, 73.30932855144971, 17.387203499881366, 93.60152093844926, 35.333655301118924, 46.93050945680698, 73.14278641879783, 18.35146153762352, 31.457471205092702, 26.123660759634078, 34.54302038812191, 23.520026740010046, 0.0008231012914911023, 0.0008231012914911023, 0.0008231012914911023, 0.0008231012914911023, 0.0008231012914911023, 0.0008231012914911023, 0.0008231012914911023, 0.0008231012914911023, 0.0008231012914911023, 0.0008231012914911023, 0.0008231012914911023, 0.0008231012914911023, 0.0008231012914911023, 0.0008231012914911023, 0.0008231012914911023, 0.0008231012914911023, 0.0008231012914911023, 0.0008231012914911023, 0.0008231012914911023, 0.0008231012914911023], \"Total\": [1583.0, 653.0, 793.0, 424.0, 466.0, 349.0, 737.0, 959.0, 452.0, 1130.0, 275.2480594332466, 189.69676209163822, 185.97635015712223, 125.55751079873414, 121.29515883099062, 102.9019444868752, 100.57252792321452, 99.65655481203562, 84.37703594755408, 77.12758690455941, 300.72225369790135, 959.8263276290894, 198.38101037983313, 1583.7406618267498, 357.91695057466274, 231.93396838390805, 630.3104760480809, 350.6399805461453, 698.952617667485, 948.9656438685421, 653.871007120214, 530.0537559772823, 560.786055989909, 861.6460711363495, 1130.8414231803758, 176.55283004399584, 127.23358993658178, 124.19677649026131, 121.80858235727004, 112.90135104159486, 111.98249649312011, 88.5438741819213, 138.93602720960723, 77.97336476031286, 77.15201982926948, 109.87308094867896, 352.9830555978733, 214.24932008446223, 326.49721181723464, 349.57434094253136, 238.67705777393425, 746.4898783789719, 268.6791436217537, 340.9354931859227, 340.9702885260295, 554.1336089825655, 283.60193037724736, 948.9656438685421, 793.1972050891344, 1253.9044260044113, 481.370797148421, 181.14749899461336, 146.6818047055072, 138.37670773341645, 105.60161809094718, 100.87665277664043, 94.1949285158944, 80.56296512959317, 86.51660649761051, 73.8536489167254, 70.34759859888375, 176.8192163659575, 236.04578066354242, 243.71866977442454, 157.9096863120948, 737.7976148449002, 127.85962416361784, 333.71112310289584, 1253.9044260044113, 580.1949477981585, 1130.8414231803758, 367.362095862535, 164.9455751684139, 119.91406232585814, 99.16456472997858, 95.7355271571714, 88.62598248266251, 87.81969559579848, 66.36066960073475, 61.83250053408498, 61.470857997267494, 58.97593280799531, 78.56476855451204, 151.64423637730428, 160.4496293327407, 98.26137265479673, 603.5864161055874, 302.9658223441662, 257.39985726150155, 1253.9044260044113, 311.36159783115295, 561.9690069858676, 470.3208339711768, 424.1211032091174, 425.30581902214595, 142.95801651115852, 93.99023937544766, 62.47306680888388, 59.379052386762474, 52.03353600793559, 60.63586590154435, 36.8510934775388, 35.186429897416495, 34.3101948322091, 32.367190177640936, 43.54652056751131, 73.45134857013122, 254.41303317267042, 246.9005126293654, 243.90558203582316, 323.4251729019006, 202.81087766780033, 307.8346755126785, 231.12720656374748, 593.6508154691651, 452.6056132018639, 174.08491633827623, 74.37455575450576, 59.85336076638604, 59.471605377373116, 41.28102162853758, 39.02911660584607, 34.95623794475783, 31.626027289962853, 31.2712792421348, 29.56814157194198, 93.62363877328214, 124.5350783316693, 269.96253406186844, 105.75125071337655, 113.37216223714482, 152.4419265802202, 454.53737321313315, 313.0629714317498, 625.4282727279061, 1130.8414231803758, 861.6460711363495, 249.5912923624472, 110.26614454298036, 74.66909932326536, 55.83745302981648, 45.81989768479293, 43.34071406422054, 41.92157558973301, 37.70203262294387, 36.937522131001884, 34.737735348636626, 33.52588823155123, 132.1604446359782, 78.74797427929806, 244.20009616943992, 76.65585242107854, 126.94773369349707, 173.2142867435071, 75.55497595804292, 207.61408762177777, 44.00525017521213, 40.64763180181377, 39.27303833969648, 30.656426767135066, 27.227093505342527, 22.950469962567094, 18.780464964670816, 71.01461328114398, 16.380078962318404, 43.596732127720834, 35.2306158569249, 100.59919437913807, 129.9632463694546, 83.06926277974767, 466.9598345935995, 115.03680054156267, 1130.8414231803758, 66.33280706903328, 58.6278030751574, 42.29163971985051, 34.82853965002003, 32.70652625408175, 32.33170121419018, 23.184276240932913, 21.31956833644055, 19.38321540105219, 17.504435146309458, 36.26411752486151, 88.29914600413217, 39.152121170409856, 31.524245668493403, 105.59201899510812, 457.33001867563934, 452.6056132018639, 298.42767666624934, 182.82780172129995, 170.44877485739465, 24.539050975883153, 24.376879683363534, 23.124846794165066, 22.33148527974786, 21.87306964637652, 17.20732910848092, 12.790336860154834, 7.428503481045065, 6.896892499017349, 6.7961824681659895, 26.507149874999445, 115.23193927899432, 62.61245058597691, 159.1695683969581, 152.61307819876626, 349.84153288362336, 124.993566216027, 466.9598345935995, 237.58702152642365, 123.62999155994805, 793.1972050891344, 283.4808353025981, 23.36460008006488, 18.76812667227242, 18.430616208786642, 15.535915880471475, 15.38099664104298, 13.350871786429192, 11.505424196003398, 8.81906227007297, 8.818888139779004, 8.098311445123345, 96.45932196494844, 22.298007745035477, 181.5446602258282, 62.45852916908406, 97.08718857893776, 424.1211032091174, 28.37798992216033, 175.31583027408152, 99.36163544628309, 653.871007120214, 131.14572300570333, 1.2308245842492187, 1.2308245842492187, 1.2308245842492187, 1.2308245842492187, 1.2308548933530385, 1.2308548933530385, 1.2308548933530385, 1.2308548933530385, 1.2308548933530385, 1.2308548933530385, 57.80918832361811, 16.51454812895733, 88.29914600413217, 16.574091603838525, 76.0260942808895, 102.12445752656599, 8.701105818131937, 55.189245538633244, 340.9702885260295, 41.65294840771958], \"Category\": [\"Default\", \"Default\", \"Default\", \"Default\", \"Default\", \"Default\", \"Default\", \"Default\", \"Default\", \"Default\", \"Topic1\", \"Topic1\", \"Topic1\", \"Topic1\", \"Topic1\", \"Topic1\", \"Topic1\", \"Topic1\", \"Topic1\", \"Topic1\", \"Topic1\", \"Topic1\", \"Topic1\", \"Topic1\", \"Topic1\", \"Topic1\", \"Topic1\", \"Topic1\", \"Topic1\", \"Topic1\", \"Topic1\", \"Topic1\", \"Topic1\", \"Topic1\", \"Topic1\", \"Topic2\", \"Topic2\", \"Topic2\", \"Topic2\", \"Topic2\", \"Topic2\", \"Topic2\", \"Topic2\", \"Topic2\", \"Topic2\", \"Topic2\", \"Topic2\", \"Topic2\", \"Topic2\", \"Topic2\", \"Topic2\", \"Topic2\", \"Topic2\", \"Topic2\", \"Topic2\", \"Topic2\", \"Topic2\", \"Topic2\", \"Topic2\", \"Topic2\", \"Topic2\", \"Topic3\", \"Topic3\", \"Topic3\", \"Topic3\", \"Topic3\", \"Topic3\", \"Topic3\", \"Topic3\", \"Topic3\", \"Topic3\", \"Topic3\", \"Topic3\", \"Topic3\", \"Topic3\", \"Topic3\", \"Topic3\", \"Topic3\", \"Topic3\", \"Topic3\", \"Topic3\", \"Topic3\", \"Topic4\", \"Topic4\", \"Topic4\", \"Topic4\", \"Topic4\", \"Topic4\", \"Topic4\", \"Topic4\", \"Topic4\", \"Topic4\", \"Topic4\", \"Topic4\", \"Topic4\", \"Topic4\", \"Topic4\", \"Topic4\", \"Topic4\", \"Topic4\", \"Topic4\", \"Topic4\", \"Topic4\", \"Topic4\", \"Topic4\", \"Topic5\", \"Topic5\", \"Topic5\", \"Topic5\", \"Topic5\", \"Topic5\", \"Topic5\", \"Topic5\", \"Topic5\", \"Topic5\", \"Topic5\", \"Topic5\", \"Topic5\", \"Topic5\", \"Topic5\", \"Topic5\", \"Topic5\", \"Topic5\", \"Topic5\", \"Topic5\", \"Topic5\", \"Topic6\", \"Topic6\", \"Topic6\", \"Topic6\", \"Topic6\", \"Topic6\", \"Topic6\", \"Topic6\", \"Topic6\", \"Topic6\", \"Topic6\", \"Topic6\", \"Topic6\", \"Topic6\", \"Topic6\", \"Topic6\", \"Topic6\", \"Topic6\", \"Topic6\", \"Topic6\", \"Topic6\", \"Topic6\", \"Topic7\", \"Topic7\", \"Topic7\", \"Topic7\", \"Topic7\", \"Topic7\", \"Topic7\", \"Topic7\", \"Topic7\", \"Topic7\", \"Topic7\", \"Topic7\", \"Topic7\", \"Topic7\", \"Topic7\", \"Topic7\", \"Topic7\", \"Topic8\", \"Topic8\", \"Topic8\", \"Topic8\", \"Topic8\", \"Topic8\", \"Topic8\", \"Topic8\", \"Topic8\", \"Topic8\", \"Topic8\", \"Topic8\", \"Topic8\", \"Topic8\", \"Topic8\", \"Topic8\", \"Topic8\", \"Topic8\", \"Topic9\", \"Topic9\", \"Topic9\", \"Topic9\", \"Topic9\", \"Topic9\", \"Topic9\", \"Topic9\", \"Topic9\", \"Topic9\", \"Topic9\", \"Topic9\", \"Topic9\", \"Topic9\", \"Topic9\", \"Topic9\", \"Topic9\", \"Topic9\", \"Topic9\", \"Topic9\", \"Topic10\", \"Topic10\", \"Topic10\", \"Topic10\", \"Topic10\", \"Topic10\", \"Topic10\", \"Topic10\", \"Topic10\", \"Topic10\", \"Topic10\", \"Topic10\", \"Topic10\", \"Topic10\", \"Topic10\", \"Topic10\", \"Topic10\", \"Topic10\", \"Topic10\", \"Topic10\", \"Topic10\", \"Topic10\", \"Topic11\", \"Topic11\", \"Topic11\", \"Topic11\", \"Topic11\", \"Topic11\", \"Topic11\", \"Topic11\", \"Topic11\", \"Topic11\", \"Topic11\", \"Topic11\", \"Topic11\", \"Topic11\", \"Topic11\", \"Topic11\", \"Topic11\", \"Topic11\", \"Topic11\", \"Topic11\", \"Topic11\", \"Topic12\", \"Topic12\", \"Topic12\", \"Topic12\", \"Topic12\", \"Topic12\", \"Topic12\", \"Topic12\", \"Topic12\", \"Topic12\", \"Topic12\", \"Topic12\", \"Topic12\", \"Topic12\", \"Topic12\", \"Topic12\", \"Topic12\", \"Topic12\", \"Topic12\", \"Topic12\"], \"logprob\": [10.0, 9.0, 8.0, 7.0, 6.0, 5.0, 4.0, 3.0, 2.0, 1.0, -4.9146, -5.2886, -5.3085, -5.7042, -5.739, -5.9051, -5.9282, -5.9374, -6.1058, -6.1969, -4.8388, -3.7318, -5.293, -3.396, -4.7817, -5.1797, -4.3267, -4.827, -4.2553, -4.171, -4.4304, -4.599, -4.6154, -4.4692, -4.3758, -5.1897, -5.5198, -5.5442, -5.5638, -5.6405, -5.6488, -5.8863, -5.4368, -6.0152, -6.026, -5.673, -4.5518, -5.0433, -4.7155, -4.7583, -5.0615, -4.2173, -4.9746, -4.8209, -4.85, -4.594, -4.9783, -4.5322, -4.6543, -4.5825, -4.8392, -4.7769, -4.9893, -5.0481, -5.3209, -5.3671, -5.4364, -5.5948, -5.5247, -5.683, -5.7324, -4.8157, -4.5565, -4.569, -4.9904, -3.7218, -5.2081, -4.6329, -4.2416, -4.5864, -4.4448, -4.7843, -4.7681, -5.0895, -5.2815, -5.3171, -5.3952, -5.4045, -5.6889, -5.7608, -5.7668, -5.809, -5.5394, -4.9436, -4.8926, -5.3592, -3.9625, -4.5459, -4.6928, -3.9381, -4.7612, -4.4843, -4.584, -4.7006, -4.7705, -3.9908, -4.4144, -4.8291, -4.8809, -5.0158, -4.8677, -5.3701, -5.4179, -5.4444, -5.5043, -5.2267, -4.807, -3.9404, -3.995, -4.0843, -4.4033, -4.5627, -4.5372, -4.6364, -4.5131, -4.6346, -3.5783, -4.4373, -4.6581, -4.6647, -5.038, -5.0957, -5.2093, -5.3128, -5.3245, -5.3826, -4.332, -4.2671, -3.6989, -4.5022, -4.4889, -4.34, -3.771, -4.123, -4.0241, -3.877, -4.0942, -4.3162, -3.6733, -4.0678, -4.3633, -4.5653, -4.6223, -4.6564, -4.7655, -4.7865, -4.8498, -4.8864, -3.5273, -4.0782, -3.715, -4.4075, -4.1746, -4.1744, -4.4932, -2.9593, -4.5308, -4.6123, -4.6477, -4.9035, -5.0269, -5.2057, -5.4175, -4.0885, -5.5635, -4.6349, -4.8497, -3.924, -3.7173, -4.1076, -2.7207, -4.2436, -4.4626, -3.9426, -4.0683, -4.4023, -4.6021, -4.6672, -4.679, -5.0254, -5.1135, -5.2142, -5.3225, -4.6085, -3.9472, -4.6655, -4.8524, -4.3827, -3.8738, -3.9574, -4.2568, -4.3677, -4.5324, -4.2906, -4.2976, -4.3531, -4.39, -4.4119, -4.6677, -4.9907, -5.612, -5.7013, -5.7191, -4.3953, -3.023, -3.6389, -3.1014, -3.3376, -2.9333, -3.8484, -3.501, -3.7862, -3.9445, -3.6184, -3.8961, -4.1024, -4.3344, -4.3538, -4.5373, -4.5481, -4.7022, -4.8664, -5.1672, -5.1672, -5.2661, -2.9079, -4.3468, -2.6635, -3.6377, -3.3539, -2.9101, -4.2928, -3.7539, -3.9397, -3.6603, -4.0447, -8.8317, -8.8317, -8.8317, -8.8317, -8.8317, -8.8317, -8.8317, -8.8317, -8.8317, -8.8317, -8.8317, -8.8317, -8.8317, -8.8317, -8.8317, -8.8317, -8.8317, -8.8317, -8.8317, -8.8317], \"loglift\": [10.0, 9.0, 8.0, 7.0, 6.0, 5.0, 4.0, 3.0, 2.0, 1.0, 1.3032, 1.3014, 1.3013, 1.2985, 1.2982, 1.2966, 1.2964, 1.2963, 1.2943, 1.2931, 1.2905, 1.2369, 1.2522, 1.0719, 1.1734, 1.2093, 1.0625, 1.1486, 1.0306, 0.8091, 0.9221, 0.9634, 0.8907, 0.6073, 0.4289, 1.4721, 1.4695, 1.4693, 1.4691, 1.4684, 1.4683, 1.4656, 1.4647, 1.4638, 1.4637, 1.4631, 1.4172, 1.425, 1.3315, 1.2204, 1.2988, 1.0028, 1.2673, 1.1828, 1.1536, 0.924, 1.2096, 0.4478, 0.5051, 0.1189, 0.8196, 1.8592, 1.8578, 1.8574, 1.8549, 1.8544, 1.8536, 1.8516, 1.8504, 1.8504, 1.8496, 1.8446, 1.8149, 1.7704, 1.783, 1.51, 1.7764, 1.3922, 0.4598, 0.8857, 0.3599, 1.1448, 1.9617, 1.9591, 1.9571, 1.9567, 1.9558, 1.9557, 1.9514, 1.9502, 1.9501, 1.9493, 1.9321, 1.8702, 1.8648, 1.8886, 1.47, 1.5759, 1.592, 0.7634, 1.3333, 1.0197, 1.098, 1.0848, 1.0121, 2.8821, 2.8778, 2.8716, 2.8706, 2.8678, 2.8628, 2.8584, 2.8569, 2.8555, 2.8539, 2.8349, 2.7318, 2.3561, 2.3314, 2.2544, 1.6531, 1.9605, 1.5686, 1.756, 0.9361, 1.0858, 3.0976, 3.089, 3.0854, 3.0853, 3.077, 3.0754, 3.072, 3.0686, 3.0682, 3.0661, 2.9641, 2.7438, 2.5383, 2.6721, 2.6158, 2.4686, 1.9452, 1.966, 1.3728, 0.9277, 0.9824, 1.9994, 3.4592, 3.4545, 3.4497, 3.4454, 3.4441, 3.4432, 3.4402, 3.4397, 3.4378, 3.4367, 3.4241, 3.391, 2.6225, 3.0886, 2.8171, 2.5065, 3.0174, 3.5405, 3.5203, 3.5182, 3.5172, 3.509, 3.5043, 3.4964, 3.4851, 3.4841, 3.4758, 3.4256, 3.4239, 3.3003, 3.2508, 3.3081, 2.9685, 2.8466, 0.3421, 3.6981, 3.6959, 3.6886, 3.6829, 3.6806, 3.6803, 3.6666, 3.6622, 3.6569, 3.6504, 3.6361, 3.4075, 3.5024, 3.5323, 2.7931, 1.8362, 1.763, 1.8801, 2.2591, 2.1646, 4.3445, 4.3442, 4.3414, 4.3395, 4.3383, 4.3223, 4.296, 4.2181, 4.2031, 4.1999, 4.1627, 4.0654, 4.0596, 3.664, 3.4699, 3.0446, 3.1588, 2.1882, 2.5787, 3.0736, 1.5409, 2.2921, 4.5818, 4.5689, 4.5676, 4.555, 4.5542, 4.5417, 4.5262, 4.4913, 4.4913, 4.4777, 4.3584, 4.3841, 3.9704, 4.0632, 3.9059, 2.8753, 4.197, 2.9149, 3.297, 1.6922, 2.9144, 2.796, 2.796, 2.796, 2.796, 2.796, 2.796, 2.796, 2.796, 2.796, 2.796, -1.0534, 0.1995, -1.477, 0.1959, -1.3274, -1.6225, 0.8403, -1.0071, -2.8281, -0.7257]}, \"token.table\": {\"Topic\": [1, 3, 4, 1, 4, 8, 2, 4, 7, 2, 7, 9, 2, 9, 7, 2, 3, 6, 1, 3, 4, 7, 8, 9, 2, 7, 9, 1, 3, 4, 8, 1, 3, 4, 1, 2, 3, 4, 5, 8, 1, 2, 4, 6, 10, 4, 5, 1, 4, 6, 1, 5, 1, 2, 3, 5, 6, 6, 1, 3, 4, 8, 7, 9, 7, 1, 6, 6, 5, 6, 7, 1, 2, 10, 3, 6, 10, 1, 4, 11, 7, 9, 1, 3, 4, 8, 9, 3, 9, 2, 3, 4, 5, 11, 11, 9, 8, 5, 8, 2, 3, 6, 10, 1, 3, 6, 7, 4, 9, 3, 2, 3, 1, 2, 1, 2, 9, 9, 1, 1, 1, 1, 6, 7, 7, 4, 10, 9, 6, 8, 6, 5, 11, 11, 1, 2, 1, 2, 6, 8, 1, 2, 1, 2, 3, 5, 8, 3, 11, 7, 1, 9, 10, 1, 3, 4, 5, 6, 2, 3, 4, 6, 9, 3, 1, 6, 10, 11, 2, 4, 6, 1, 2, 5, 6, 1, 8, 10, 5, 2, 3, 5, 8, 1, 2, 4, 6, 11, 1, 2, 3, 4, 5, 6, 7, 1, 4, 2, 2, 6, 9, 1, 2, 3, 4, 5, 8, 1, 2, 4, 5, 8, 4, 1, 7, 9, 1, 1, 2, 3, 6, 10, 4, 1, 5, 3, 4, 2, 3, 4, 5, 8, 1, 2, 3, 4, 5, 6, 4, 2, 3, 1, 2, 4, 6, 8, 9, 1, 3, 3, 4, 6, 1, 2, 5, 2, 3, 6, 9, 9, 1, 3, 4, 6, 1, 3, 4, 8, 10, 1, 2, 3, 4, 5, 11, 8, 1, 3, 4, 5, 8, 11, 2, 2, 1, 2, 5, 8, 1, 3, 4, 5, 1, 2, 3, 4, 5, 10, 11, 1, 4, 10, 1, 2, 3, 4, 8, 1, 2, 3, 5, 6, 10, 3, 2, 4, 8, 9, 2, 2, 10, 6, 7, 3, 1, 2, 5, 6, 7, 1, 2, 3, 4, 5, 5, 1, 2, 3, 4, 5, 6, 10, 6, 2, 6, 4, 1, 3, 4, 6, 8, 10, 2, 6, 4, 10, 3, 4, 6, 4, 7, 9, 4, 5, 6, 10, 1, 3, 7, 8, 9, 9, 10, 11, 6, 2, 4, 8, 10, 1, 2, 5, 9, 1, 4, 5, 7, 1, 3, 4, 10, 5, 1, 3, 4, 10, 4, 8, 11, 10, 1, 2, 1, 2, 3, 6, 4, 11, 4, 6, 9, 1, 9, 5, 11, 1, 3, 4, 6, 6, 1, 3, 1, 2, 6, 1, 2, 5, 1, 2, 5, 7, 1, 1, 4, 5, 1, 2, 6, 7, 3, 4, 11, 8, 4, 2, 1, 2, 3, 4, 10, 1, 4, 8, 2, 5, 7, 11, 2, 8, 11, 7, 10, 5, 3, 2, 4, 11, 5, 4, 6, 1, 2, 7, 8, 1, 2, 3, 5, 4, 10, 3, 8, 10, 6, 1, 2, 4, 7, 9, 11, 10, 1, 4, 8, 3, 4, 3, 3, 4, 1, 2, 3, 4, 5, 6, 1, 2, 3, 4, 5, 1, 2, 3, 4, 5, 7, 1, 3, 4, 5, 11, 9, 1, 6, 7, 8, 8, 10, 3, 7, 7, 5, 2, 5, 8, 5, 11, 1, 2, 3, 5, 9, 1, 2, 3, 4, 6, 7, 8, 1, 6], \"Freq\": [0.3459657639204206, 0.15568459376418928, 0.50165035768461, 0.0894639371174367, 0.1192852494899156, 0.7852945591419443, 0.121105342052509, 0.5449740392362905, 0.242210684105018, 0.011325137843951545, 0.24915303256693397, 0.7361339598568504, 0.05515093531860701, 0.9375659004163192, 0.9653621074650289, 0.14468716437489074, 0.6971290647153827, 0.14468716437489074, 0.1370876314947194, 0.22521539459846757, 0.3525110524149927, 0.05875184206916545, 0.2154234209202733, 0.9286384961198386, 0.11492792076107547, 0.3447837622832264, 0.3447837622832264, 0.36238944389989386, 0.018119472194994695, 0.5254646936548462, 0.09059736097497346, 0.06594381849844339, 0.01978314554953302, 0.9034303134286744, 0.03519368227617265, 0.7214704866615393, 0.04692490970156354, 0.12317788796660428, 0.04985771655791126, 0.020529647994434047, 0.4786740846132904, 0.02135349076341816, 0.38792174886876324, 0.07295776010834538, 0.03914806639959996, 0.022963947221676963, 0.9415218360887555, 0.44607150752726843, 0.013119750221390248, 0.531349883966305, 0.4321422777520365, 0.5281738950302668, 0.19441028894117843, 0.20251071764706086, 0.004050214352941217, 0.5710802237647116, 0.024301286117647303, 0.9726447123323455, 0.23445408974162216, 0.1605849929737138, 0.5299304768132556, 0.07386909676790836, 0.9533866229570694, 0.03783280249829641, 0.9821060777910676, 0.984296959603644, 0.013301310264914108, 0.9593467465052763, 0.9764207700353458, 0.9752553278487247, 0.981379448955316, 0.03471259813058758, 0.2343100373814662, 0.7202864112096924, 0.9784004451300532, 0.01696648170745757, 0.9372815608315201, 0.17619288799928381, 0.14095431039942705, 0.6342943967974217, 0.9690657135405308, 0.9588112853892852, 0.2097622618902527, 0.6232935781881795, 0.05393886734320784, 0.014983018706446622, 0.09888792346254771, 0.17878980220592533, 0.8173248100842301, 0.13770716235278876, 0.05508286494111551, 0.2809226111996891, 0.0055082864941115505, 0.5177789304464858, 0.941595401787802, 0.9799072717117758, 0.9675849286555017, 0.09174999603827218, 0.8945624613731538, 0.20872932753025217, 0.7007341709944179, 0.05963695072292919, 0.029818475361464595, 0.23640382341915633, 0.07564922349413003, 0.6524745526368715, 0.02836845881029876, 0.9923170929433138, 0.9140540592292894, 0.9808437156957177, 0.8337625821937404, 0.15921094534352834, 0.9054301164389947, 0.09054301164389948, 0.03281776591694907, 0.7329301054785292, 0.23519398907146832, 0.948918990240376, 0.9934118251100095, 0.989322254544427, 0.99475013808854, 0.4914002978800515, 0.07780504716434149, 0.42997526064504504, 0.9787627103139416, 0.9882562411971489, 0.8828485739022769, 0.9892917175430811, 0.8651661168195846, 0.11749169487673371, 0.9469651628890322, 0.9577599980060864, 0.9071438341433, 0.9223782757678711, 0.9963269689795673, 0.9825637380769079, 0.04936496723198321, 0.7651569920957397, 0.15867310895994605, 0.024682483615991607, 0.4240854483298336, 0.5738688194420727, 0.33222151724085053, 0.6215757419344945, 0.034829675194605295, 0.01071682313680163, 0.9840671701374525, 0.1793882236358348, 0.7623999504522978, 0.9885173772219193, 0.9954656921621302, 0.9762108989252566, 0.929836344683739, 0.5689301043154698, 0.05208515039507822, 0.024039300182343792, 0.02003275015195316, 0.33254365252242246, 0.45700039679274357, 0.15962214816205875, 0.21210066262629726, 0.017492838154746164, 0.15306233385402895, 0.995351811311048, 0.5802627216006655, 0.1600724749243215, 0.26011777175202244, 0.9011377319310727, 0.9912263387235659, 0.9906661530737794, 0.9736320804736861, 0.40093832268867846, 0.517272758287466, 0.03531581080677479, 0.04570281398523796, 0.04224482626023916, 0.9434677864786747, 0.8699570133730321, 0.9618132500087369, 0.25527068352174775, 0.4153556884421658, 0.32017000984083616, 0.9771561308887097, 0.3088740433069398, 0.05894542811201141, 0.41261799678407984, 0.04479852536512867, 0.1721206500870733, 0.3339257703133637, 0.1855143168407576, 0.037102863368151516, 0.02782714752611364, 0.29063909638385355, 0.0463785792101894, 0.08038953729766163, 0.9476713503981204, 0.05040805055309151, 0.9933618605387062, 0.35560490026367614, 0.5667453097952339, 0.0740843542215992, 0.008199894333317283, 0.26649656583281167, 0.049199365999903696, 0.09839873199980739, 0.5288931844989647, 0.04509941883324506, 0.06159522965403912, 0.7450089681964732, 0.10559182226406706, 0.058662123480037257, 0.029331061740018628, 0.9760722715578026, 0.5195876257786434, 0.38103092557100515, 0.09237113347175882, 0.9853802387729993, 0.45007722885241713, 0.3782161586995102, 0.10716124496486122, 0.006303602644991837, 0.0579931443339249, 0.9865361981661074, 0.13614453913602442, 0.8577105965569538, 0.9824703422960492, 0.992377355014675, 0.13916814189089635, 0.21040897643028378, 0.6080322389757019, 0.009940581563635455, 0.033135271878784844, 0.49672367151346525, 0.09980896203307947, 0.19497564676229479, 0.08356099146955491, 0.0046422773038641615, 0.11953864057450216, 0.979495842809885, 0.9829523216013769, 0.009101410385197935, 0.34849314635220585, 0.14743940807208708, 0.1775974688141049, 0.08712328658805146, 0.07707059967404553, 0.16084299062409502, 0.994307312990565, 0.9936653886971551, 0.9108863108660227, 0.045134006394262384, 0.04103091490387489, 0.6080304421220232, 0.35723105698330304, 0.03477470466209145, 0.22728990532051363, 0.33146444525908236, 0.03788165088675227, 0.3977573343108988, 0.9783980038542437, 0.8745045449718288, 0.058672828895873504, 0.05308494042959984, 0.011175776932547335, 0.3231836419334874, 0.2083684007202748, 0.4188630096111646, 0.029766914388610687, 0.01913587353553544, 0.6805623665130436, 0.003058707265227162, 0.25234334938124087, 0.003058707265227162, 0.007646768163067905, 0.05352737714147533, 0.958586034877833, 0.19062764249591874, 0.183002536796082, 0.19062764249591874, 0.20587785389559224, 0.0457506341990205, 0.183002536796082, 0.9912047286718152, 0.9903045262088679, 0.2231285047686692, 0.7723679011223165, 0.0028606218560085794, 0.9970421678566607, 0.7837407417012645, 0.04124951272111918, 0.13802721564374495, 0.036489953560990045, 0.10395190193147051, 0.11369739273754588, 0.14943085902648887, 0.26312825176403476, 0.2663767486993932, 0.10070340499611206, 0.8988177095819078, 0.983679967753193, 0.27151149397444974, 0.7187068958147198, 0.2912814057436306, 0.21199770950571933, 0.3757357778231448, 0.08617793069338184, 0.0327476136634851, 0.7905334693850021, 0.1439629640733071, 0.0018942495272803567, 0.01704824574552321, 0.030307992436485708, 0.015785412727336304, 0.9884413440737647, 0.017385740828887206, 0.31294333491996973, 0.49549361362328537, 0.16516453787442847, 0.9850681831555571, 0.5088912460828661, 0.4837608141775394, 0.9815184676995871, 0.9544862698040253, 0.9900510154059403, 0.30360539777945084, 0.34760618006632776, 0.002200039114343847, 0.3146055933511701, 0.0330005867151577, 0.1395640659453134, 0.25679788133937664, 0.24563275606375157, 0.29986336454535906, 0.05821815322290216, 0.9769045258302159, 0.028214991338679878, 0.4326298671930915, 0.09169872185070961, 0.38325363235040166, 0.004702498556446647, 0.014107495669339939, 0.04232248700801982, 0.993767890055632, 0.9860653334596474, 0.007197557178537572, 0.981653433484017, 0.1572604411316698, 0.08518273894632114, 0.1572604411316698, 0.03276259190243121, 0.17036547789264228, 0.39970362120966074, 0.2971050445839796, 0.698598348075844, 0.15090268168637214, 0.7922390788534537, 0.9150660403183953, 0.015642154535357188, 0.06256861814142875, 0.05079495741456239, 0.9270079728157637, 0.012698739353640598, 0.5419396956563874, 0.05662056521783153, 0.12941843478361492, 0.26692552174120576, 0.20872509397078182, 0.013045318373173864, 0.6783565554050409, 0.013045318373173864, 0.06522659186586932, 0.9381052976487768, 0.8076996955456635, 0.9071259228033329, 0.985742475352106, 0.9903638683379584, 0.32550979493190746, 0.5610760938957878, 0.10921710224689, 0.6606192925553594, 0.030932007009281046, 0.16349775133477124, 0.14140346061385622, 0.9912349130876702, 0.3176494955584083, 0.03970618694480104, 0.6352989911168166, 0.12206053939177278, 0.26937498348529165, 0.4377343481635989, 0.1641503805613496, 0.9662816062648173, 0.6243808326974327, 0.15874088966883884, 0.09524453380130331, 0.12346513640909687, 0.7044972607948208, 0.020128493165566308, 0.261670411152362, 0.9600847224238984, 0.04667459386129095, 0.9474942553842063, 0.3533578663402486, 0.3597534838305698, 0.11032440170804142, 0.17747838535641447, 0.5047009880212984, 0.48410094769389844, 0.9037104080764111, 0.06855734130234843, 0.024929942291763065, 0.12688646199701967, 0.8247620029806279, 0.9932986163732641, 0.864377722125675, 0.28716110393854544, 0.01650351172060606, 0.6766439805448484, 0.01980421406472727, 0.9802053136733511, 0.07599280500300051, 0.9182463937862562, 0.025553964313994454, 0.6484318444676093, 0.3194245539249307, 0.9324603568759987, 0.05209275736737423, 0.014585972062864785, 0.07963314557967552, 0.8637133482103267, 0.055130639247467667, 0.9746187053999755, 0.987595239911766, 0.025456703262764696, 0.9673547239850585, 0.9767754396318068, 0.10049161105712982, 0.8113767114983075, 0.055828672809516575, 0.03349720368570994, 0.17611685939996197, 0.25616997730903557, 0.5603718253635154, 0.9785876295329115, 0.9942673505036528, 0.9875167018467788, 0.6597881599371614, 0.09985982961211091, 0.04636349231990864, 0.1551393781473866, 0.03744743610454159, 0.06019073520920908, 0.1444577645021018, 0.7824795577197181, 0.4163913771270673, 0.3194235221796681, 0.08555987201241108, 0.17682373549231625, 0.08515320913444442, 0.8799164943892591, 0.9102140990423274, 0.9780166757387164, 0.9382082842073585, 0.9730214803199061, 0.9943029462822336, 0.9920164724932052, 0.9834520157371212, 0.9590728107452924, 0.9801371175739823, 0.9261014531080616, 0.07123857331600474, 0.2520722431899484, 0.03150903039874355, 0.5198990015792686, 0.1890541823924613, 0.7093620142484474, 0.007546404406898377, 0.1565878914431413, 0.12451567271382322, 0.7040362369364609, 0.28801482420127944, 0.9913096563723075, 0.9549311605698293, 0.9435169840747415, 0.9689682673053805, 0.22294088081180144, 0.3813462434938709, 0.02933432642260545, 0.15253849739754835, 0.21120715024275927, 0.8691552636080699, 0.9513576542072966, 0.05386138154860079, 0.19236207695928853, 0.7463648586020395, 0.31080048315149295, 0.6876460689726781, 0.9873143009425102, 0.9489684559085071, 0.046601129531221336, 0.7582774377019912, 0.09013486523627443, 0.017168545759290367, 0.061520622304123807, 0.07010489518376899, 0.0028614242932150607, 0.11398787097639634, 0.14150218466035408, 0.14543280090091948, 0.007861232481130782, 0.5856618198442433, 0.3065775288393473, 0.1297058775858777, 0.19877004617056585, 0.22066844108766207, 0.14149732100277568, 0.003368983833399421, 0.10354474198567164, 0.029584211995906183, 0.41910966994200427, 0.3944561599454158, 0.05423772199249467, 0.9694587457850624, 0.29989725280956464, 0.6174355204902802, 0.035282029742301727, 0.044102537177877155, 0.9584427240678545, 0.9403763223507857, 0.9805994587329427, 0.9850019478974212, 0.9910391402959259, 0.9894644445845903, 0.9405550627286265, 0.056659943537869066, 0.9157465012535525, 0.22807541616345176, 0.7567956990878172, 0.11705072593033762, 0.3375416282642294, 0.4872576730588473, 0.04355375848570702, 0.016332659432140132, 0.4156197238319879, 0.16536359224804625, 0.22195861847197654, 0.027413215827216224, 0.11319005244786054, 0.015033053840731479, 0.040677675098449884, 0.8527264903856299, 0.14259640307452004], \"Term\": [\"about\", \"about\", \"about\", \"account\", \"account\", \"account\", \"accurate\", \"accurate\", \"accurate\", \"administration\", \"administration\", \"administration\", \"agency\", \"agency\", \"agenda\", \"ago\", \"ago\", \"ago\", \"allow\", \"allow\", \"allow\", \"allow\", \"allow\", \"ally\", \"ambitious\", \"ambitious\", \"ambitious\", \"amount\", \"amount\", \"amount\", \"amount\", \"approach\", \"approach\", \"approach\", \"as\", \"as\", \"as\", \"as\", \"as\", \"as\", \"asset\", \"asset\", \"asset\", \"asset\", \"asset\", \"attempt\", \"attempt\", \"average\", \"average\", \"average\", \"away\", \"away\", \"back\", \"back\", \"back\", \"back\", \"back\", \"barrel\", \"benefit\", \"benefit\", \"benefit\", \"benefit\", \"bill\", \"bill\", \"bipartisan\", \"bond\", \"bond\", \"bps\", \"bridesmaid\", \"buyback\", \"candidate\", \"cap\", \"cap\", \"cap\", \"capital\", \"capital\", \"capitalization\", \"card\", \"card\", \"card\", \"ceiling\", \"celebrate\", \"change\", \"change\", \"change\", \"change\", \"change\", \"clean\", \"clean\", \"client\", \"client\", \"client\", \"client\", \"client\", \"clientele\", \"climate\", \"college\", \"committee\", \"committee\", \"company\", \"company\", \"company\", \"company\", \"compare\", \"compare\", \"compare\", \"compare\", \"compelling\", \"complexity\", \"constraint\", \"consumer\", \"consumer\", \"corporate\", \"corporate\", \"country\", \"country\", \"country\", \"crossroad\", \"currency\", \"curve\", \"cycle\", \"debt\", \"debt\", \"debt\", \"democratic\", \"design\", \"dial\", \"differentiate\", \"distribution\", \"distribution\", \"diversifier\", \"divine\", \"doctor\", \"dream\", \"dress\", \"due\", \"earning\", \"earning\", \"earning\", \"earning\", \"economic\", \"economic\", \"economy\", \"economy\", \"economy\", \"economy\", \"education\", \"effectively\", \"effectively\", \"election\", \"emerge\", \"emission\", \"emotional\", \"end\", \"end\", \"end\", \"end\", \"end\", \"energy\", \"energy\", \"energy\", \"energy\", \"energy\", \"equipment\", \"equity\", \"equity\", \"equity\", \"esg\", \"eurozone\", \"execute\", \"exit\", \"expect\", \"expect\", \"expect\", \"expect\", \"expense\", \"expense\", \"exploration\", \"fan\", \"few\", \"few\", \"few\", \"fiduciary\", \"financial\", \"financial\", \"financial\", \"financial\", \"financial\", \"first\", \"first\", \"first\", \"first\", \"first\", \"first\", \"first\", \"fix\", \"fix\", \"forecast\", \"gas\", \"gas\", \"gas\", \"get\", \"get\", \"get\", \"get\", \"get\", \"get\", \"give\", \"give\", \"give\", \"give\", \"give\", \"goal\", \"government\", \"government\", \"government\", \"grade\", \"growth\", \"growth\", \"growth\", \"growth\", \"growth\", \"habit\", \"hawkish\", \"hawkish\", \"health\", \"hedging\", \"help\", \"help\", \"help\", \"help\", \"help\", \"high\", \"high\", \"high\", \"high\", \"high\", \"high\", \"holistic\", \"hope\", \"hope\", \"include\", \"include\", \"include\", \"include\", \"include\", \"include\", \"indicator\", \"industrial\", \"industry\", \"industry\", \"industry\", \"inflation\", \"inflation\", \"inflation\", \"infrastructure\", \"infrastructure\", \"infrastructure\", \"infrastructure\", \"initiative\", \"interest\", \"interest\", \"interest\", \"interest\", \"investment\", \"investment\", \"investment\", \"investment\", \"investment\", \"investor\", \"investor\", \"investor\", \"investor\", \"investor\", \"investor\", \"journey\", \"know\", \"know\", \"know\", \"know\", \"know\", \"know\", \"labor\", \"landing\", \"last\", \"last\", \"last\", \"liability\", \"long\", \"long\", \"long\", \"long\", \"look\", \"look\", \"look\", \"look\", \"look\", \"look\", \"lunch\", \"macro\", \"manager\", \"manager\", \"many\", \"many\", \"many\", \"many\", \"many\", \"market\", \"market\", \"market\", \"market\", \"market\", \"market\", \"material\", \"member\", \"member\", \"member\", \"member\", \"mention\", \"mid\", \"mid\", \"midstream\", \"midterm\", \"mining\", \"month\", \"month\", \"month\", \"month\", \"month\", \"more\", \"more\", \"more\", \"more\", \"more\", \"mortgage\", \"most\", \"most\", \"most\", \"most\", \"most\", \"most\", \"most\", \"natural\", \"news\", \"news\", \"objective\", \"offer\", \"offer\", \"offer\", \"offer\", \"offer\", \"offer\", \"oil\", \"oil\", \"overlook\", \"overlook\", \"own\", \"own\", \"own\", \"package\", \"package\", \"package\", \"participant\", \"participant\", \"participant\", \"participant\", \"pass\", \"pass\", \"pass\", \"pass\", \"pass\", \"petroleum\", \"phrase\", \"physician\", \"pipeline\", \"pivot\", \"plan\", \"plan\", \"plan\", \"policy\", \"policy\", \"policy\", \"policy\", \"policymaker\", \"political\", \"political\", \"political\", \"portfolio\", \"portfolio\", \"portfolio\", \"portfolio\", \"positively\", \"potential\", \"potential\", \"potential\", \"potential\", \"practice\", \"practice\", \"practice\", \"premier\", \"pressure\", \"pressure\", \"price\", \"price\", \"price\", \"price\", \"professional\", \"professional\", \"program\", \"program\", \"program\", \"promise\", \"promise\", \"property\", \"prospective\", \"provide\", \"provide\", \"provide\", \"provide\", \"proxy\", \"quality\", \"quality\", \"quarter\", \"quarter\", \"quarter\", \"rate\", \"rate\", \"rate\", \"recession\", \"recession\", \"recession\", \"reconciliation\", \"regime\", \"rely\", \"rely\", \"remember\", \"report\", \"report\", \"report\", \"report\", \"research\", \"research\", \"research\", \"responsibility\", \"retirement\", \"revise\", \"risk\", \"risk\", \"risk\", \"risk\", \"risk\", \"saving\", \"saving\", \"saving\", \"say\", \"say\", \"say\", \"say\", \"school\", \"school\", \"scientific\", \"seat\", \"selection\", \"send\", \"side\", \"soft\", \"solution\", \"specialist\", \"speech\", \"sponsor\", \"sponsor\", \"state\", \"state\", \"state\", \"state\", \"stock\", \"stock\", \"stock\", \"stock\", \"strategy\", \"strategy\", \"structural\", \"student\", \"style\", \"subsector\", \"support\", \"support\", \"support\", \"support\", \"support\", \"surgeon\", \"tap\", \"tax\", \"tax\", \"tax\", \"team\", \"team\", \"tech\", \"technology\", \"technology\", \"term\", \"term\", \"term\", \"term\", \"term\", \"term\", \"think\", \"think\", \"think\", \"think\", \"think\", \"time\", \"time\", \"time\", \"time\", \"time\", \"time\", \"today\", \"today\", \"today\", \"today\", \"today\", \"toolkit\", \"total\", \"total\", \"total\", \"total\", \"tuition\", \"underexposed\", \"underground\", \"version\", \"vote\", \"wedding\", \"week\", \"week\", \"withdrawal\", \"word\", \"word\", \"world\", \"world\", \"world\", \"world\", \"world\", \"year\", \"year\", \"year\", \"year\", \"year\", \"year\", \"year\", \"yield\", \"yield\"]}, \"R\": 10, \"lambda.step\": 0.01, \"plot.opts\": {\"xlab\": \"PC1\", \"ylab\": \"PC2\"}, \"topic.order\": [1, 3, 8, 12, 7, 4, 6, 9, 10, 5, 2, 11]};\n\nfunction LDAvis_load_lib(url, callback){\n  var s = document.createElement('script');\n  s.src = url;\n  s.async = true;\n  s.onreadystatechange = s.onload = callback;\n  s.onerror = function(){console.warn(\"failed to load library \" + url);};\n  document.getElementsByTagName(\"head\")[0].appendChild(s);\n}\n\nif(typeof(LDAvis) !== \"undefined\"){\n   // already loaded: just create the visualization\n   !function(LDAvis){\n       new LDAvis(\"#\" + \"ldavis_el6484559926044965121341899\", ldavis_el6484559926044965121341899_data);\n   }(LDAvis);\n}else if(typeof define === \"function\" && define.amd){\n   // require.js is available: use it to load d3/LDAvis\n   require.config({paths: {d3: \"https://d3js.org/d3.v5\"}});\n   require([\"d3\"], function(d3){\n      window.d3 = d3;\n      LDAvis_load_lib(\"https://cdn.jsdelivr.net/gh/bmabey/pyLDAvis@3.3.1/pyLDAvis/js/ldavis.v3.0.0.js\", function(){\n        new LDAvis(\"#\" + \"ldavis_el6484559926044965121341899\", ldavis_el6484559926044965121341899_data);\n      });\n    });\n}else{\n    // require.js not available: dynamically load d3 & LDAvis\n    LDAvis_load_lib(\"https://d3js.org/d3.v5.js\", function(){\n         LDAvis_load_lib(\"https://cdn.jsdelivr.net/gh/bmabey/pyLDAvis@3.3.1/pyLDAvis/js/ldavis.v3.0.0.js\", function(){\n                 new LDAvis(\"#\" + \"ldavis_el6484559926044965121341899\", ldavis_el6484559926044965121341899_data);\n            })\n         });\n}\n</script>"
     },
     "execution_count": 55,
     "metadata": {},
     "output_type": "execute_result"
    }
   ],
   "source": [
    "vis"
   ],
   "metadata": {
    "collapsed": false,
    "pycharm": {
     "name": "#%%\n"
    }
   }
  },
  {
   "cell_type": "code",
   "execution_count": null,
   "outputs": [],
   "source": [],
   "metadata": {
    "collapsed": false,
    "pycharm": {
     "name": "#%%\n"
    }
   }
  }
 ],
 "metadata": {
  "kernelspec": {
   "name": "conda-env-nlp-py",
   "language": "python",
   "display_name": "Python [conda env:nlp] *"
  },
  "language_info": {
   "codemirror_mode": {
    "name": "ipython",
    "version": 2
   },
   "file_extension": ".py",
   "mimetype": "text/x-python",
   "name": "python",
   "nbconvert_exporter": "python",
   "pygments_lexer": "ipython2",
   "version": "2.7.6"
  }
 },
 "nbformat": 4,
 "nbformat_minor": 0
}